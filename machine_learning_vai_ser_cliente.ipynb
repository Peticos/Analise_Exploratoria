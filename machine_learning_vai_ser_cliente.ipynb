{
 "cells": [
  {
   "cell_type": "markdown",
   "metadata": {},
   "source": [
    "# Importação"
   ]
  },
  {
   "cell_type": "markdown",
   "metadata": {},
   "source": [
    "## Leitura"
   ]
  },
  {
   "cell_type": "code",
   "execution_count": 179,
   "metadata": {},
   "outputs": [],
   "source": [
    "# o pandas é usado para ler e manipular os dados das nossas bases (os arquivos)\n",
    "import pandas as pd\n",
    "\n",
    "# o train_test_split é usado para separar a base de treino e a base de teste\n",
    "# o GridSearchCV é usado para escolher os melhores parâmetros para o modelo\n",
    "from sklearn.model_selection import train_test_split, GridSearchCV"
   ]
  },
  {
   "cell_type": "markdown",
   "metadata": {},
   "source": [
    "## Modelo\n",
    "Aqui são importadas as classes dos modelos que serão testados"
   ]
  },
  {
   "cell_type": "code",
   "execution_count": 180,
   "metadata": {},
   "outputs": [],
   "source": [
    "# árvore de decisão\n",
    "from sklearn.tree import DecisionTreeClassifier\n",
    "\n",
    "# naive baeys\n",
    "from sklearn.naive_bayes import GaussianNB\n",
    "\n",
    "# KNN\n",
    "from sklearn.neighbors import KNeighborsClassifier"
   ]
  },
  {
   "cell_type": "markdown",
   "metadata": {},
   "source": [
    "### Avaliação do modelo"
   ]
  },
  {
   "cell_type": "code",
   "execution_count": 181,
   "metadata": {},
   "outputs": [],
   "source": [
    "# reporte de classificação\n",
    "# matriz de confusão\n",
    "from sklearn.metrics import classification_report, confusion_matrix"
   ]
  },
  {
   "cell_type": "markdown",
   "metadata": {},
   "source": [
    "# Treinamento do modelo"
   ]
  },
  {
   "cell_type": "markdown",
   "metadata": {},
   "source": [
    "## Leitura do DataFrame"
   ]
  },
  {
   "cell_type": "code",
   "execution_count": 182,
   "metadata": {},
   "outputs": [
    {
     "data": {
      "text/html": [
       "<div>\n",
       "<style scoped>\n",
       "    .dataframe tbody tr th:only-of-type {\n",
       "        vertical-align: middle;\n",
       "    }\n",
       "\n",
       "    .dataframe tbody tr th {\n",
       "        vertical-align: top;\n",
       "    }\n",
       "\n",
       "    .dataframe thead th {\n",
       "        text-align: right;\n",
       "    }\n",
       "</style>\n",
       "<table border=\"1\" class=\"dataframe\">\n",
       "  <thead>\n",
       "    <tr style=\"text-align: right;\">\n",
       "      <th></th>\n",
       "      <th>age</th>\n",
       "      <th>gender</th>\n",
       "      <th>time_in_social_media</th>\n",
       "      <th>people_living_together</th>\n",
       "      <th>social_class</th>\n",
       "      <th>has_pets</th>\n",
       "      <th>number_of_pets</th>\n",
       "      <th>has_dog</th>\n",
       "      <th>has_cat</th>\n",
       "      <th>has_others</th>\n",
       "      <th>forgets</th>\n",
       "      <th>report_abandoned</th>\n",
       "      <th>feeling</th>\n",
       "      <th>would_use</th>\n",
       "    </tr>\n",
       "  </thead>\n",
       "  <tbody>\n",
       "    <tr>\n",
       "      <th>1</th>\n",
       "      <td>17</td>\n",
       "      <td>1</td>\n",
       "      <td>3.0</td>\n",
       "      <td>3</td>\n",
       "      <td>2.0</td>\n",
       "      <td>0</td>\n",
       "      <td>0.0</td>\n",
       "      <td>0</td>\n",
       "      <td>0</td>\n",
       "      <td>0</td>\n",
       "      <td>1</td>\n",
       "      <td>4</td>\n",
       "      <td>3.0</td>\n",
       "      <td>1.0</td>\n",
       "    </tr>\n",
       "    <tr>\n",
       "      <th>2</th>\n",
       "      <td>47</td>\n",
       "      <td>1</td>\n",
       "      <td>2.0</td>\n",
       "      <td>3</td>\n",
       "      <td>2.0</td>\n",
       "      <td>0</td>\n",
       "      <td>0.0</td>\n",
       "      <td>0</td>\n",
       "      <td>0</td>\n",
       "      <td>0</td>\n",
       "      <td>1</td>\n",
       "      <td>4</td>\n",
       "      <td>3.0</td>\n",
       "      <td>1.0</td>\n",
       "    </tr>\n",
       "    <tr>\n",
       "      <th>3</th>\n",
       "      <td>17</td>\n",
       "      <td>1</td>\n",
       "      <td>2.0</td>\n",
       "      <td>4</td>\n",
       "      <td>2.0</td>\n",
       "      <td>1</td>\n",
       "      <td>2.0</td>\n",
       "      <td>1</td>\n",
       "      <td>1</td>\n",
       "      <td>0</td>\n",
       "      <td>1</td>\n",
       "      <td>4</td>\n",
       "      <td>5.0</td>\n",
       "      <td>1.0</td>\n",
       "    </tr>\n",
       "    <tr>\n",
       "      <th>4</th>\n",
       "      <td>16</td>\n",
       "      <td>0</td>\n",
       "      <td>2.0</td>\n",
       "      <td>3</td>\n",
       "      <td>4.0</td>\n",
       "      <td>1</td>\n",
       "      <td>1.0</td>\n",
       "      <td>1</td>\n",
       "      <td>0</td>\n",
       "      <td>0</td>\n",
       "      <td>1</td>\n",
       "      <td>4</td>\n",
       "      <td>3.0</td>\n",
       "      <td>0.0</td>\n",
       "    </tr>\n",
       "    <tr>\n",
       "      <th>5</th>\n",
       "      <td>11</td>\n",
       "      <td>2</td>\n",
       "      <td>5.0</td>\n",
       "      <td>4</td>\n",
       "      <td>2.0</td>\n",
       "      <td>1</td>\n",
       "      <td>1.0</td>\n",
       "      <td>1</td>\n",
       "      <td>0</td>\n",
       "      <td>0</td>\n",
       "      <td>1</td>\n",
       "      <td>2</td>\n",
       "      <td>5.0</td>\n",
       "      <td>0.5</td>\n",
       "    </tr>\n",
       "    <tr>\n",
       "      <th>...</th>\n",
       "      <td>...</td>\n",
       "      <td>...</td>\n",
       "      <td>...</td>\n",
       "      <td>...</td>\n",
       "      <td>...</td>\n",
       "      <td>...</td>\n",
       "      <td>...</td>\n",
       "      <td>...</td>\n",
       "      <td>...</td>\n",
       "      <td>...</td>\n",
       "      <td>...</td>\n",
       "      <td>...</td>\n",
       "      <td>...</td>\n",
       "      <td>...</td>\n",
       "    </tr>\n",
       "    <tr>\n",
       "      <th>349</th>\n",
       "      <td>40</td>\n",
       "      <td>1</td>\n",
       "      <td>2.0</td>\n",
       "      <td>4</td>\n",
       "      <td>3.0</td>\n",
       "      <td>1</td>\n",
       "      <td>2.0</td>\n",
       "      <td>0</td>\n",
       "      <td>0</td>\n",
       "      <td>0</td>\n",
       "      <td>0</td>\n",
       "      <td>4</td>\n",
       "      <td>3.0</td>\n",
       "      <td>0.0</td>\n",
       "    </tr>\n",
       "    <tr>\n",
       "      <th>350</th>\n",
       "      <td>50</td>\n",
       "      <td>1</td>\n",
       "      <td>2.0</td>\n",
       "      <td>2</td>\n",
       "      <td>3.0</td>\n",
       "      <td>1</td>\n",
       "      <td>1.0</td>\n",
       "      <td>1</td>\n",
       "      <td>0</td>\n",
       "      <td>0</td>\n",
       "      <td>0</td>\n",
       "      <td>3</td>\n",
       "      <td>3.0</td>\n",
       "      <td>1.0</td>\n",
       "    </tr>\n",
       "    <tr>\n",
       "      <th>351</th>\n",
       "      <td>40</td>\n",
       "      <td>1</td>\n",
       "      <td>2.0</td>\n",
       "      <td>3</td>\n",
       "      <td>3.0</td>\n",
       "      <td>1</td>\n",
       "      <td>1.0</td>\n",
       "      <td>1</td>\n",
       "      <td>0</td>\n",
       "      <td>0</td>\n",
       "      <td>1</td>\n",
       "      <td>4</td>\n",
       "      <td>3.0</td>\n",
       "      <td>1.0</td>\n",
       "    </tr>\n",
       "    <tr>\n",
       "      <th>352</th>\n",
       "      <td>50</td>\n",
       "      <td>0</td>\n",
       "      <td>0.0</td>\n",
       "      <td>2</td>\n",
       "      <td>3.0</td>\n",
       "      <td>0</td>\n",
       "      <td>0.0</td>\n",
       "      <td>0</td>\n",
       "      <td>0</td>\n",
       "      <td>0</td>\n",
       "      <td>1</td>\n",
       "      <td>2</td>\n",
       "      <td>3.0</td>\n",
       "      <td>1.0</td>\n",
       "    </tr>\n",
       "    <tr>\n",
       "      <th>353</th>\n",
       "      <td>50</td>\n",
       "      <td>1</td>\n",
       "      <td>2.0</td>\n",
       "      <td>4</td>\n",
       "      <td>3.0</td>\n",
       "      <td>1</td>\n",
       "      <td>2.0</td>\n",
       "      <td>1</td>\n",
       "      <td>0</td>\n",
       "      <td>0</td>\n",
       "      <td>1</td>\n",
       "      <td>4</td>\n",
       "      <td>4.0</td>\n",
       "      <td>1.0</td>\n",
       "    </tr>\n",
       "  </tbody>\n",
       "</table>\n",
       "<p>611 rows × 14 columns</p>\n",
       "</div>"
      ],
      "text/plain": [
       "     age  gender  time_in_social_media  people_living_together  social_class  \\\n",
       "1     17       1                   3.0                       3           2.0   \n",
       "2     47       1                   2.0                       3           2.0   \n",
       "3     17       1                   2.0                       4           2.0   \n",
       "4     16       0                   2.0                       3           4.0   \n",
       "5     11       2                   5.0                       4           2.0   \n",
       "..   ...     ...                   ...                     ...           ...   \n",
       "349   40       1                   2.0                       4           3.0   \n",
       "350   50       1                   2.0                       2           3.0   \n",
       "351   40       1                   2.0                       3           3.0   \n",
       "352   50       0                   0.0                       2           3.0   \n",
       "353   50       1                   2.0                       4           3.0   \n",
       "\n",
       "     has_pets  number_of_pets  has_dog  has_cat  has_others  forgets  \\\n",
       "1           0             0.0        0        0           0        1   \n",
       "2           0             0.0        0        0           0        1   \n",
       "3           1             2.0        1        1           0        1   \n",
       "4           1             1.0        1        0           0        1   \n",
       "5           1             1.0        1        0           0        1   \n",
       "..        ...             ...      ...      ...         ...      ...   \n",
       "349         1             2.0        0        0           0        0   \n",
       "350         1             1.0        1        0           0        0   \n",
       "351         1             1.0        1        0           0        1   \n",
       "352         0             0.0        0        0           0        1   \n",
       "353         1             2.0        1        0           0        1   \n",
       "\n",
       "     report_abandoned  feeling  would_use  \n",
       "1                   4      3.0        1.0  \n",
       "2                   4      3.0        1.0  \n",
       "3                   4      5.0        1.0  \n",
       "4                   4      3.0        0.0  \n",
       "5                   2      5.0        0.5  \n",
       "..                ...      ...        ...  \n",
       "349                 4      3.0        0.0  \n",
       "350                 3      3.0        1.0  \n",
       "351                 4      3.0        1.0  \n",
       "352                 2      3.0        1.0  \n",
       "353                 4      4.0        1.0  \n",
       "\n",
       "[611 rows x 14 columns]"
      ]
     },
     "execution_count": 182,
     "metadata": {},
     "output_type": "execute_result"
    }
   ],
   "source": [
    "# Lendo e juntando os dois arquivos\n",
    "df = pd.concat([pd.read_csv('FORMS 2/base_tratada_forms_2.csv').loc[:, 'age':], pd.read_csv('FORMS 1/treated_df.csv').loc[:, 'age':]]).drop(columns=['is_lgbt']).dropna()\n",
    "df"
   ]
  },
  {
   "cell_type": "markdown",
   "metadata": {},
   "source": [
    "#### Balanceamento"
   ]
  },
  {
   "cell_type": "code",
   "execution_count": 183,
   "metadata": {},
   "outputs": [
    {
     "data": {
      "text/plain": [
       "would_use\n",
       "0.0    136\n",
       "0.5    220\n",
       "1.0    255\n",
       "dtype: int64"
      ]
     },
     "execution_count": 183,
     "metadata": {},
     "output_type": "execute_result"
    }
   ],
   "source": [
    "df.groupby('would_use').size()"
   ]
  },
  {
   "cell_type": "code",
   "execution_count": 184,
   "metadata": {},
   "outputs": [
    {
     "data": {
      "text/plain": [
       "[Text(0.5, 0, 'age'),\n",
       " Text(1.5, 0, 'gender'),\n",
       " Text(2.5, 0, 'time_in_social_media'),\n",
       " Text(3.5, 0, 'people_living_together'),\n",
       " Text(4.5, 0, 'social_class'),\n",
       " Text(5.5, 0, 'has_pets'),\n",
       " Text(6.5, 0, 'number_of_pets'),\n",
       " Text(7.5, 0, 'has_dog'),\n",
       " Text(8.5, 0, 'has_cat'),\n",
       " Text(9.5, 0, 'has_others'),\n",
       " Text(10.5, 0, 'forgets'),\n",
       " Text(11.5, 0, 'report_abandoned'),\n",
       " Text(12.5, 0, 'feeling'),\n",
       " Text(13.5, 0, 'would_use')]"
      ]
     },
     "execution_count": 184,
     "metadata": {},
     "output_type": "execute_result"
    },
    {
     "data": {
      "image/png": "[encoded data removed]",
      "text/plain": [
       "<Figure size 640x480 with 2 Axes>"
      ]
     },
     "metadata": {},
     "output_type": "display_data"
    }
   ],
   "source": [
    "import seaborn as sns\n",
    "corr = df.corr()\n",
    "ax = sns.heatmap(\n",
    "    corr, \n",
    "    vmin=-1, vmax=1, center=0,\n",
    "    cmap=sns.diverging_palette(20, 220, n=200),\n",
    "    square=True\n",
    ")\n",
    "ax.set_xticklabels(\n",
    "    ax.get_xticklabels(),\n",
    "    rotation=45,\n",
    "    horizontalalignment='right'\n",
    ")"
   ]
  },
  {
   "cell_type": "code",
   "execution_count": 185,
   "metadata": {},
   "outputs": [],
   "source": [
    "filtered_df = df[df['would_use'] == 0]\n",
    "\n",
    "df = pd.concat([filtered_df.groupby('would_use').sample(frac=0.716), df.loc[df['would_use'] == 1], df.loc[df['would_use'] == 0.5]], axis=0)"
   ]
  },
  {
   "cell_type": "markdown",
   "metadata": {},
   "source": [
    "## Divisão do DataFrame"
   ]
  },
  {
   "cell_type": "markdown",
   "metadata": {},
   "source": [
    "### Separação features e resposta"
   ]
  },
  {
   "cell_type": "code",
   "execution_count": 186,
   "metadata": {},
   "outputs": [],
   "source": [
    "x = df.drop(columns=['would_use'])\n",
    "y = df['would_use']"
   ]
  },
  {
   "cell_type": "markdown",
   "metadata": {},
   "source": [
    "### Separação treino e teste"
   ]
  },
  {
   "cell_type": "code",
   "execution_count": 187,
   "metadata": {},
   "outputs": [],
   "source": [
    "x_train, x_test, y_train, y_test = train_test_split(x, y, test_size=0.25, random_state=42)"
   ]
  },
  {
   "cell_type": "markdown",
   "metadata": {},
   "source": [
    "## Treinamento"
   ]
  },
  {
   "cell_type": "markdown",
   "metadata": {},
   "source": [
    "### Model Training pipeline"
   ]
  },
  {
   "cell_type": "code",
   "execution_count": 188,
   "metadata": {},
   "outputs": [],
   "source": [
    "def model_training(model_name: str, x_train: pd.DataFrame, y_train, params: dict = None):\n",
    "    '''\n",
    "    # Pipeline de treino para o modelo\n",
    "    Essa função já faz o treino automático do modelo, recebendo como parâmetros o nome do modelo, os parâmetros \n",
    "    # Parâmetros:\n",
    "     - model_name - modelo que será usado [naive_baeys, decision_tree (árvore de decisão), knn]\n",
    "     - x_train - DataFrame do pandas, com todas as features e os valores da base\n",
    "     - y_train - Lista com as respostas de cada linha do x_train, na mesma ordem\n",
    "     - params - dicionário com parâmetro:valor a ser usado no modelo, caso seja None, vai escolher os melhores parâmetros\n",
    "    '''\n",
    "    \n",
    "    # Dicionário com os possíveis parâmetros para cada modelo (knn & tree)\n",
    "    param_grid = {\n",
    "        'decision_tree': { 'max_depth': [3, 5, 10, None], 'min_samples_split': [2, 5, 10], 'min_samples_leaf': [1, 2, 4], 'max_features': [None, 'sqrt', 'log2'], 'criterion': ['gini', 'entropy'] }, \n",
    "        'knn': { 'n_neighbors': range(2, (len(y_train)//2)+1), 'weights': ['uniform', 'distance'], 'metric': ['euclidean', 'manhattan', 'minkowski']}\n",
    "    }\n",
    "\n",
    "    # Dicionário com os nomes dos modelos e suas classes\n",
    "    models = {'naive_baeys':GaussianNB, 'decision_tree':DecisionTreeClassifier, 'knn': KNeighborsClassifier}\n",
    "\n",
    "    # Definindo o modelo escolhido\n",
    "    if model_name != 'naive_baeys':\n",
    "        if params == None:\n",
    "            model = models[model_name]()\n",
    "            gs = GridSearchCV(estimator=model, param_grid=param_grid[model_name], scoring='accuracy', n_jobs=-1, cv=5)\n",
    "            gs.fit(x_train, y_train)\n",
    "            model = models[model_name](**gs.best_params_)\n",
    "        else:\n",
    "            model = models[model_name](**params)\n",
    "    else:\n",
    "        model = models[model_name]()\n",
    "    \n",
    "    model.fit(x_train, y_train)\n",
    "    \n",
    "    return model"
   ]
  },
  {
   "cell_type": "markdown",
   "metadata": {},
   "source": [
    "### Model Testing Pipeline"
   ]
  },
  {
   "cell_type": "code",
   "execution_count": 189,
   "metadata": {},
   "outputs": [],
   "source": [
    "def test(model, x_test, y_test):\n",
    "    y_pred = model.predict(x_test)\n",
    "    print(classification_report(y_pred=y_pred, y_true=y_test))\n",
    "    return y_pred"
   ]
  },
  {
   "cell_type": "markdown",
   "metadata": {},
   "source": [
    "### Naive Baeys"
   ]
  },
  {
   "cell_type": "markdown",
   "metadata": {},
   "source": [
    "#### Treinando o modelo"
   ]
  },
  {
   "cell_type": "code",
   "execution_count": 190,
   "metadata": {},
   "outputs": [
    {
     "ename": "ValueError",
     "evalue": "Unknown label type: (array([0. , 0.5, 1. ]),)",
     "output_type": "error",
     "traceback": [
      "\u001b[1;31m---------------------------------------------------------------------------\u001b[0m",
      "\u001b[1;31mValueError\u001b[0m                                Traceback (most recent call last)",
      "Cell \u001b[1;32mIn[190], line 1\u001b[0m\n\u001b[1;32m----> 1\u001b[0m model \u001b[38;5;241m=\u001b[39m \u001b[43mmodel_training\u001b[49m\u001b[43m(\u001b[49m\u001b[38;5;124;43m'\u001b[39;49m\u001b[38;5;124;43mnaive_baeys\u001b[39;49m\u001b[38;5;124;43m'\u001b[39;49m\u001b[43m,\u001b[49m\u001b[43m \u001b[49m\u001b[43mx_train\u001b[49m\u001b[43m,\u001b[49m\u001b[43m \u001b[49m\u001b[43my_train\u001b[49m\u001b[43m)\u001b[49m\n",
      "Cell \u001b[1;32mIn[188], line 33\u001b[0m, in \u001b[0;36mmodel_training\u001b[1;34m(model_name, x_train, y_train, params)\u001b[0m\n\u001b[0;32m     30\u001b[0m \u001b[38;5;28;01melse\u001b[39;00m:\n\u001b[0;32m     31\u001b[0m     model \u001b[38;5;241m=\u001b[39m models[model_name]()\n\u001b[1;32m---> 33\u001b[0m \u001b[43mmodel\u001b[49m\u001b[38;5;241;43m.\u001b[39;49m\u001b[43mfit\u001b[49m\u001b[43m(\u001b[49m\u001b[43mx_train\u001b[49m\u001b[43m,\u001b[49m\u001b[43m \u001b[49m\u001b[43my_train\u001b[49m\u001b[43m)\u001b[49m\n\u001b[0;32m     35\u001b[0m \u001b[38;5;28;01mreturn\u001b[39;00m model\n",
      "File \u001b[1;32m~\\AppData\\Roaming\\Python\\Python311\\site-packages\\sklearn\\base.py:1474\u001b[0m, in \u001b[0;36m_fit_context.<locals>.decorator.<locals>.wrapper\u001b[1;34m(estimator, *args, **kwargs)\u001b[0m\n\u001b[0;32m   1467\u001b[0m     estimator\u001b[38;5;241m.\u001b[39m_validate_params()\n\u001b[0;32m   1469\u001b[0m \u001b[38;5;28;01mwith\u001b[39;00m config_context(\n\u001b[0;32m   1470\u001b[0m     skip_parameter_validation\u001b[38;5;241m=\u001b[39m(\n\u001b[0;32m   1471\u001b[0m         prefer_skip_nested_validation \u001b[38;5;129;01mor\u001b[39;00m global_skip_validation\n\u001b[0;32m   1472\u001b[0m     )\n\u001b[0;32m   1473\u001b[0m ):\n\u001b[1;32m-> 1474\u001b[0m     \u001b[38;5;28;01mreturn\u001b[39;00m \u001b[43mfit_method\u001b[49m\u001b[43m(\u001b[49m\u001b[43mestimator\u001b[49m\u001b[43m,\u001b[49m\u001b[43m \u001b[49m\u001b[38;5;241;43m*\u001b[39;49m\u001b[43margs\u001b[49m\u001b[43m,\u001b[49m\u001b[43m \u001b[49m\u001b[38;5;241;43m*\u001b[39;49m\u001b[38;5;241;43m*\u001b[39;49m\u001b[43mkwargs\u001b[49m\u001b[43m)\u001b[49m\n",
      "File \u001b[1;32m~\\AppData\\Roaming\\Python\\Python311\\site-packages\\sklearn\\naive_bayes.py:263\u001b[0m, in \u001b[0;36mGaussianNB.fit\u001b[1;34m(self, X, y, sample_weight)\u001b[0m\n\u001b[0;32m    240\u001b[0m \u001b[38;5;250m\u001b[39m\u001b[38;5;124;03m\"\"\"Fit Gaussian Naive Bayes according to X, y.\u001b[39;00m\n\u001b[0;32m    241\u001b[0m \n\u001b[0;32m    242\u001b[0m \u001b[38;5;124;03mParameters\u001b[39;00m\n\u001b[1;32m   (...)\u001b[0m\n\u001b[0;32m    260\u001b[0m \u001b[38;5;124;03m    Returns the instance itself.\u001b[39;00m\n\u001b[0;32m    261\u001b[0m \u001b[38;5;124;03m\"\"\"\u001b[39;00m\n\u001b[0;32m    262\u001b[0m y \u001b[38;5;241m=\u001b[39m \u001b[38;5;28mself\u001b[39m\u001b[38;5;241m.\u001b[39m_validate_data(y\u001b[38;5;241m=\u001b[39my)\n\u001b[1;32m--> 263\u001b[0m \u001b[38;5;28;01mreturn\u001b[39;00m \u001b[38;5;28;43mself\u001b[39;49m\u001b[38;5;241;43m.\u001b[39;49m\u001b[43m_partial_fit\u001b[49m\u001b[43m(\u001b[49m\n\u001b[0;32m    264\u001b[0m \u001b[43m    \u001b[49m\u001b[43mX\u001b[49m\u001b[43m,\u001b[49m\u001b[43m \u001b[49m\u001b[43my\u001b[49m\u001b[43m,\u001b[49m\u001b[43m \u001b[49m\u001b[43mnp\u001b[49m\u001b[38;5;241;43m.\u001b[39;49m\u001b[43munique\u001b[49m\u001b[43m(\u001b[49m\u001b[43my\u001b[49m\u001b[43m)\u001b[49m\u001b[43m,\u001b[49m\u001b[43m \u001b[49m\u001b[43m_refit\u001b[49m\u001b[38;5;241;43m=\u001b[39;49m\u001b[38;5;28;43;01mTrue\u001b[39;49;00m\u001b[43m,\u001b[49m\u001b[43m \u001b[49m\u001b[43msample_weight\u001b[49m\u001b[38;5;241;43m=\u001b[39;49m\u001b[43msample_weight\u001b[49m\n\u001b[0;32m    265\u001b[0m \u001b[43m\u001b[49m\u001b[43m)\u001b[49m\n",
      "File \u001b[1;32m~\\AppData\\Roaming\\Python\\Python311\\site-packages\\sklearn\\naive_bayes.py:422\u001b[0m, in \u001b[0;36mGaussianNB._partial_fit\u001b[1;34m(self, X, y, classes, _refit, sample_weight)\u001b[0m\n\u001b[0;32m    419\u001b[0m \u001b[38;5;28;01mif\u001b[39;00m _refit:\n\u001b[0;32m    420\u001b[0m     \u001b[38;5;28mself\u001b[39m\u001b[38;5;241m.\u001b[39mclasses_ \u001b[38;5;241m=\u001b[39m \u001b[38;5;28;01mNone\u001b[39;00m\n\u001b[1;32m--> 422\u001b[0m first_call \u001b[38;5;241m=\u001b[39m \u001b[43m_check_partial_fit_first_call\u001b[49m\u001b[43m(\u001b[49m\u001b[38;5;28;43mself\u001b[39;49m\u001b[43m,\u001b[49m\u001b[43m \u001b[49m\u001b[43mclasses\u001b[49m\u001b[43m)\u001b[49m\n\u001b[0;32m    423\u001b[0m X, y \u001b[38;5;241m=\u001b[39m \u001b[38;5;28mself\u001b[39m\u001b[38;5;241m.\u001b[39m_validate_data(X, y, reset\u001b[38;5;241m=\u001b[39mfirst_call)\n\u001b[0;32m    424\u001b[0m \u001b[38;5;28;01mif\u001b[39;00m sample_weight \u001b[38;5;129;01mis\u001b[39;00m \u001b[38;5;129;01mnot\u001b[39;00m \u001b[38;5;28;01mNone\u001b[39;00m:\n",
      "File \u001b[1;32m~\\AppData\\Roaming\\Python\\Python311\\site-packages\\sklearn\\utils\\multiclass.py:429\u001b[0m, in \u001b[0;36m_check_partial_fit_first_call\u001b[1;34m(clf, classes)\u001b[0m\n\u001b[0;32m    422\u001b[0m             \u001b[38;5;28;01mraise\u001b[39;00m \u001b[38;5;167;01mValueError\u001b[39;00m(\n\u001b[0;32m    423\u001b[0m                 \u001b[38;5;124m\"\u001b[39m\u001b[38;5;124m`classes=\u001b[39m\u001b[38;5;132;01m%r\u001b[39;00m\u001b[38;5;124m` is not the same as on last call \u001b[39m\u001b[38;5;124m\"\u001b[39m\n\u001b[0;32m    424\u001b[0m                 \u001b[38;5;124m\"\u001b[39m\u001b[38;5;124mto partial_fit, was: \u001b[39m\u001b[38;5;132;01m%r\u001b[39;00m\u001b[38;5;124m\"\u001b[39m \u001b[38;5;241m%\u001b[39m (classes, clf\u001b[38;5;241m.\u001b[39mclasses_)\n\u001b[0;32m    425\u001b[0m             )\n\u001b[0;32m    427\u001b[0m     \u001b[38;5;28;01melse\u001b[39;00m:\n\u001b[0;32m    428\u001b[0m         \u001b[38;5;66;03m# This is the first call to partial_fit\u001b[39;00m\n\u001b[1;32m--> 429\u001b[0m         clf\u001b[38;5;241m.\u001b[39mclasses_ \u001b[38;5;241m=\u001b[39m \u001b[43munique_labels\u001b[49m\u001b[43m(\u001b[49m\u001b[43mclasses\u001b[49m\u001b[43m)\u001b[49m\n\u001b[0;32m    430\u001b[0m         \u001b[38;5;28;01mreturn\u001b[39;00m \u001b[38;5;28;01mTrue\u001b[39;00m\n\u001b[0;32m    432\u001b[0m \u001b[38;5;66;03m# classes is None and clf.classes_ has already previously been set:\u001b[39;00m\n\u001b[0;32m    433\u001b[0m \u001b[38;5;66;03m# nothing to do\u001b[39;00m\n",
      "File \u001b[1;32m~\\AppData\\Roaming\\Python\\Python311\\site-packages\\sklearn\\utils\\multiclass.py:106\u001b[0m, in \u001b[0;36munique_labels\u001b[1;34m(*ys)\u001b[0m\n\u001b[0;32m    104\u001b[0m _unique_labels \u001b[38;5;241m=\u001b[39m _FN_UNIQUE_LABELS\u001b[38;5;241m.\u001b[39mget(label_type, \u001b[38;5;28;01mNone\u001b[39;00m)\n\u001b[0;32m    105\u001b[0m \u001b[38;5;28;01mif\u001b[39;00m \u001b[38;5;129;01mnot\u001b[39;00m _unique_labels:\n\u001b[1;32m--> 106\u001b[0m     \u001b[38;5;28;01mraise\u001b[39;00m \u001b[38;5;167;01mValueError\u001b[39;00m(\u001b[38;5;124m\"\u001b[39m\u001b[38;5;124mUnknown label type: \u001b[39m\u001b[38;5;132;01m%s\u001b[39;00m\u001b[38;5;124m\"\u001b[39m \u001b[38;5;241m%\u001b[39m \u001b[38;5;28mrepr\u001b[39m(ys))\n\u001b[0;32m    108\u001b[0m \u001b[38;5;28;01mif\u001b[39;00m is_array_api_compliant:\n\u001b[0;32m    109\u001b[0m     \u001b[38;5;66;03m# array_api does not allow for mixed dtypes\u001b[39;00m\n\u001b[0;32m    110\u001b[0m     unique_ys \u001b[38;5;241m=\u001b[39m xp\u001b[38;5;241m.\u001b[39mconcat([_unique_labels(y) \u001b[38;5;28;01mfor\u001b[39;00m y \u001b[38;5;129;01min\u001b[39;00m ys])\n",
      "\u001b[1;31mValueError\u001b[0m: Unknown label type: (array([0. , 0.5, 1. ]),)"
     ]
    }
   ],
   "source": [
    "model = model_training('naive_baeys', x_train, y_train)"
   ]
  },
  {
   "cell_type": "markdown",
   "metadata": {},
   "source": [
    "#### Testando o modelo"
   ]
  },
  {
   "cell_type": "code",
   "execution_count": 172,
   "metadata": {},
   "outputs": [
    {
     "name": "stdout",
     "output_type": "stream",
     "text": [
      "              precision    recall  f1-score   support\n",
      "\n",
      "         0.0       0.76      0.43      0.55        30\n",
      "         1.0       0.76      0.93      0.84        58\n",
      "\n",
      "    accuracy                           0.76        88\n",
      "   macro avg       0.76      0.68      0.70        88\n",
      "weighted avg       0.76      0.76      0.74        88\n",
      "\n"
     ]
    }
   ],
   "source": [
    "y_pred = test(model, x_test, y_test)"
   ]
  },
  {
   "cell_type": "markdown",
   "metadata": {},
   "source": [
    "### Decision Tree"
   ]
  },
  {
   "cell_type": "markdown",
   "metadata": {},
   "source": [
    "#### Treinando o modelo"
   ]
  },
  {
   "cell_type": "code",
   "execution_count": 173,
   "metadata": {},
   "outputs": [],
   "source": [
    "model = model_training('decision_tree', x_train, y_train)"
   ]
  },
  {
   "cell_type": "markdown",
   "metadata": {},
   "source": [
    "#### Testando o modelo"
   ]
  },
  {
   "cell_type": "code",
   "execution_count": 174,
   "metadata": {},
   "outputs": [
    {
     "name": "stdout",
     "output_type": "stream",
     "text": [
      "              precision    recall  f1-score   support\n",
      "\n",
      "         0.0       0.82      0.47      0.60        30\n",
      "         1.0       0.77      0.95      0.85        58\n",
      "\n",
      "    accuracy                           0.78        88\n",
      "   macro avg       0.80      0.71      0.72        88\n",
      "weighted avg       0.79      0.78      0.77        88\n",
      "\n"
     ]
    }
   ],
   "source": [
    "y_pred = test(model, x_test, y_test)"
   ]
  },
  {
   "cell_type": "code",
   "execution_count": 175,
   "metadata": {},
   "outputs": [
    {
     "data": {
      "text/plain": [
       "array([[14, 16],\n",
       "       [ 3, 55]], dtype=int64)"
      ]
     },
     "execution_count": 175,
     "metadata": {},
     "output_type": "execute_result"
    }
   ],
   "source": [
    "confusion_matrix(y_true=y_test, y_pred=y_pred)"
   ]
  },
  {
   "cell_type": "markdown",
   "metadata": {},
   "source": [
    "### KNN"
   ]
  },
  {
   "cell_type": "markdown",
   "metadata": {},
   "source": [
    "#### Treinando o modelo"
   ]
  },
  {
   "cell_type": "code",
   "execution_count": 176,
   "metadata": {},
   "outputs": [],
   "source": [
    "model = model_training('knn', x_train, y_train)"
   ]
  },
  {
   "cell_type": "markdown",
   "metadata": {},
   "source": [
    "#### Testando o modelo"
   ]
  },
  {
   "cell_type": "code",
   "execution_count": 177,
   "metadata": {},
   "outputs": [
    {
     "name": "stdout",
     "output_type": "stream",
     "text": [
      "              precision    recall  f1-score   support\n",
      "\n",
      "         0.0       0.71      0.33      0.45        30\n",
      "         1.0       0.73      0.93      0.82        58\n",
      "\n",
      "    accuracy                           0.73        88\n",
      "   macro avg       0.72      0.63      0.64        88\n",
      "weighted avg       0.72      0.73      0.69        88\n",
      "\n"
     ]
    }
   ],
   "source": [
    "y_pred = test(model, x_test, y_test)"
   ]
  },
  {
   "cell_type": "markdown",
   "metadata": {},
   "source": [
    "### Catboost"
   ]
  },
  {
   "cell_type": "code",
   "execution_count": 196,
   "metadata": {},
   "outputs": [
    {
     "name": "stdout",
     "output_type": "stream",
     "text": [
      "Learning rate set to 0.035819\n",
      "0:\tlearn: 0.3543375\ttotal: 5.96ms\tremaining: 5.96s\n",
      "1:\tlearn: 0.3521653\ttotal: 7.57ms\tremaining: 3.77s\n",
      "2:\tlearn: 0.3503553\ttotal: 9.3ms\tremaining: 3.09s\n",
      "3:\tlearn: 0.3483423\ttotal: 11.5ms\tremaining: 2.86s\n",
      "4:\tlearn: 0.3461722\ttotal: 13.4ms\tremaining: 2.66s\n",
      "5:\tlearn: 0.3440923\ttotal: 15.5ms\tremaining: 2.57s\n",
      "6:\tlearn: 0.3425075\ttotal: 18ms\tremaining: 2.55s\n",
      "7:\tlearn: 0.3406707\ttotal: 20.3ms\tremaining: 2.52s\n",
      "8:\tlearn: 0.3386269\ttotal: 26.1ms\tremaining: 2.88s\n",
      "9:\tlearn: 0.3367434\ttotal: 28.2ms\tremaining: 2.8s\n",
      "10:\tlearn: 0.3351660\ttotal: 30.3ms\tremaining: 2.73s\n",
      "11:\tlearn: 0.3337399\ttotal: 36.6ms\tremaining: 3.01s\n",
      "12:\tlearn: 0.3324581\ttotal: 39.6ms\tremaining: 3.01s\n",
      "13:\tlearn: 0.3313322\ttotal: 41.7ms\tremaining: 2.93s\n",
      "14:\tlearn: 0.3299830\ttotal: 43.3ms\tremaining: 2.85s\n",
      "15:\tlearn: 0.3289109\ttotal: 45.6ms\tremaining: 2.8s\n",
      "16:\tlearn: 0.3274983\ttotal: 50ms\tremaining: 2.89s\n",
      "17:\tlearn: 0.3262650\ttotal: 55.2ms\tremaining: 3.01s\n",
      "18:\tlearn: 0.3252038\ttotal: 57ms\tremaining: 2.94s\n",
      "19:\tlearn: 0.3244467\ttotal: 58.7ms\tremaining: 2.88s\n",
      "20:\tlearn: 0.3231434\ttotal: 62.7ms\tremaining: 2.92s\n",
      "21:\tlearn: 0.3217452\ttotal: 70.7ms\tremaining: 3.14s\n",
      "22:\tlearn: 0.3210408\ttotal: 83.6ms\tremaining: 3.55s\n",
      "23:\tlearn: 0.3198816\ttotal: 89.6ms\tremaining: 3.65s\n",
      "24:\tlearn: 0.3188486\ttotal: 92.5ms\tremaining: 3.61s\n",
      "25:\tlearn: 0.3180635\ttotal: 95.9ms\tremaining: 3.59s\n",
      "26:\tlearn: 0.3172059\ttotal: 98ms\tremaining: 3.53s\n",
      "27:\tlearn: 0.3165363\ttotal: 99.9ms\tremaining: 3.47s\n",
      "28:\tlearn: 0.3158468\ttotal: 102ms\tremaining: 3.41s\n",
      "29:\tlearn: 0.3149564\ttotal: 104ms\tremaining: 3.37s\n",
      "30:\tlearn: 0.3140063\ttotal: 107ms\tremaining: 3.34s\n",
      "31:\tlearn: 0.3131953\ttotal: 109ms\tremaining: 3.31s\n",
      "32:\tlearn: 0.3125298\ttotal: 111ms\tremaining: 3.26s\n",
      "33:\tlearn: 0.3112172\ttotal: 113ms\tremaining: 3.22s\n",
      "34:\tlearn: 0.3107346\ttotal: 115ms\tremaining: 3.18s\n",
      "35:\tlearn: 0.3098328\ttotal: 118ms\tremaining: 3.16s\n",
      "36:\tlearn: 0.3093414\ttotal: 121ms\tremaining: 3.14s\n",
      "37:\tlearn: 0.3087032\ttotal: 123ms\tremaining: 3.11s\n",
      "38:\tlearn: 0.3081093\ttotal: 132ms\tremaining: 3.25s\n",
      "39:\tlearn: 0.3071473\ttotal: 134ms\tremaining: 3.23s\n",
      "40:\tlearn: 0.3063266\ttotal: 140ms\tremaining: 3.28s\n",
      "41:\tlearn: 0.3055246\ttotal: 144ms\tremaining: 3.28s\n",
      "42:\tlearn: 0.3045294\ttotal: 147ms\tremaining: 3.27s\n",
      "43:\tlearn: 0.3037622\ttotal: 149ms\tremaining: 3.24s\n",
      "44:\tlearn: 0.3031935\ttotal: 151ms\tremaining: 3.21s\n",
      "45:\tlearn: 0.3025381\ttotal: 153ms\tremaining: 3.18s\n",
      "46:\tlearn: 0.3020653\ttotal: 155ms\tremaining: 3.14s\n",
      "47:\tlearn: 0.3013840\ttotal: 157ms\tremaining: 3.11s\n",
      "48:\tlearn: 0.3007071\ttotal: 159ms\tremaining: 3.08s\n",
      "49:\tlearn: 0.2998655\ttotal: 161ms\tremaining: 3.06s\n",
      "50:\tlearn: 0.2994284\ttotal: 164ms\tremaining: 3.06s\n",
      "51:\tlearn: 0.2988778\ttotal: 168ms\tremaining: 3.06s\n",
      "52:\tlearn: 0.2984961\ttotal: 171ms\tremaining: 3.05s\n",
      "53:\tlearn: 0.2979491\ttotal: 178ms\tremaining: 3.11s\n",
      "54:\tlearn: 0.2973073\ttotal: 180ms\tremaining: 3.09s\n",
      "55:\tlearn: 0.2965875\ttotal: 183ms\tremaining: 3.09s\n",
      "56:\tlearn: 0.2961627\ttotal: 189ms\tremaining: 3.12s\n",
      "57:\tlearn: 0.2955222\ttotal: 192ms\tremaining: 3.12s\n",
      "58:\tlearn: 0.2951224\ttotal: 195ms\tremaining: 3.1s\n",
      "59:\tlearn: 0.2943203\ttotal: 197ms\tremaining: 3.09s\n",
      "60:\tlearn: 0.2935750\ttotal: 200ms\tremaining: 3.07s\n",
      "61:\tlearn: 0.2930511\ttotal: 202ms\tremaining: 3.06s\n",
      "62:\tlearn: 0.2923846\ttotal: 204ms\tremaining: 3.04s\n",
      "63:\tlearn: 0.2918244\ttotal: 206ms\tremaining: 3.02s\n",
      "64:\tlearn: 0.2910972\ttotal: 208ms\tremaining: 2.99s\n",
      "65:\tlearn: 0.2904921\ttotal: 210ms\tremaining: 2.97s\n",
      "66:\tlearn: 0.2902518\ttotal: 212ms\tremaining: 2.96s\n",
      "67:\tlearn: 0.2897961\ttotal: 216ms\tremaining: 2.96s\n",
      "68:\tlearn: 0.2894092\ttotal: 218ms\tremaining: 2.94s\n",
      "69:\tlearn: 0.2887417\ttotal: 219ms\tremaining: 2.91s\n",
      "70:\tlearn: 0.2879598\ttotal: 221ms\tremaining: 2.89s\n",
      "71:\tlearn: 0.2878556\ttotal: 222ms\tremaining: 2.86s\n",
      "72:\tlearn: 0.2873238\ttotal: 223ms\tremaining: 2.83s\n",
      "73:\tlearn: 0.2869154\ttotal: 225ms\tremaining: 2.81s\n",
      "74:\tlearn: 0.2860915\ttotal: 232ms\tremaining: 2.86s\n",
      "75:\tlearn: 0.2856884\ttotal: 234ms\tremaining: 2.84s\n",
      "76:\tlearn: 0.2853133\ttotal: 236ms\tremaining: 2.83s\n",
      "77:\tlearn: 0.2848610\ttotal: 238ms\tremaining: 2.82s\n",
      "78:\tlearn: 0.2845376\ttotal: 246ms\tremaining: 2.87s\n",
      "79:\tlearn: 0.2843002\ttotal: 249ms\tremaining: 2.86s\n",
      "80:\tlearn: 0.2834152\ttotal: 251ms\tremaining: 2.85s\n",
      "81:\tlearn: 0.2828849\ttotal: 253ms\tremaining: 2.83s\n",
      "82:\tlearn: 0.2826418\ttotal: 262ms\tremaining: 2.89s\n",
      "83:\tlearn: 0.2821970\ttotal: 266ms\tremaining: 2.9s\n",
      "84:\tlearn: 0.2817705\ttotal: 274ms\tremaining: 2.94s\n",
      "85:\tlearn: 0.2811876\ttotal: 275ms\tremaining: 2.93s\n",
      "86:\tlearn: 0.2805341\ttotal: 277ms\tremaining: 2.91s\n",
      "87:\tlearn: 0.2801551\ttotal: 279ms\tremaining: 2.89s\n",
      "88:\tlearn: 0.2796587\ttotal: 282ms\tremaining: 2.88s\n",
      "89:\tlearn: 0.2790992\ttotal: 283ms\tremaining: 2.86s\n",
      "90:\tlearn: 0.2784492\ttotal: 288ms\tremaining: 2.87s\n",
      "91:\tlearn: 0.2777744\ttotal: 290ms\tremaining: 2.86s\n",
      "92:\tlearn: 0.2772841\ttotal: 292ms\tremaining: 2.84s\n",
      "93:\tlearn: 0.2766354\ttotal: 294ms\tremaining: 2.83s\n",
      "94:\tlearn: 0.2764663\ttotal: 295ms\tremaining: 2.81s\n",
      "95:\tlearn: 0.2763206\ttotal: 297ms\tremaining: 2.8s\n",
      "96:\tlearn: 0.2762789\ttotal: 301ms\tremaining: 2.8s\n",
      "97:\tlearn: 0.2758209\ttotal: 304ms\tremaining: 2.8s\n",
      "98:\tlearn: 0.2753357\ttotal: 306ms\tremaining: 2.78s\n",
      "99:\tlearn: 0.2750656\ttotal: 308ms\tremaining: 2.77s\n",
      "100:\tlearn: 0.2748152\ttotal: 310ms\tremaining: 2.76s\n",
      "101:\tlearn: 0.2745608\ttotal: 315ms\tremaining: 2.77s\n",
      "102:\tlearn: 0.2740447\ttotal: 318ms\tremaining: 2.77s\n",
      "103:\tlearn: 0.2734663\ttotal: 320ms\tremaining: 2.75s\n",
      "104:\tlearn: 0.2732596\ttotal: 321ms\tremaining: 2.74s\n",
      "105:\tlearn: 0.2725760\ttotal: 324ms\tremaining: 2.73s\n",
      "106:\tlearn: 0.2725420\ttotal: 325ms\tremaining: 2.71s\n",
      "107:\tlearn: 0.2722114\ttotal: 329ms\tremaining: 2.72s\n",
      "108:\tlearn: 0.2718308\ttotal: 335ms\tremaining: 2.74s\n",
      "109:\tlearn: 0.2714604\ttotal: 338ms\tremaining: 2.73s\n",
      "110:\tlearn: 0.2708533\ttotal: 340ms\tremaining: 2.72s\n",
      "111:\tlearn: 0.2705998\ttotal: 341ms\tremaining: 2.71s\n",
      "112:\tlearn: 0.2699626\ttotal: 344ms\tremaining: 2.7s\n",
      "113:\tlearn: 0.2695199\ttotal: 346ms\tremaining: 2.69s\n",
      "114:\tlearn: 0.2693099\ttotal: 348ms\tremaining: 2.68s\n",
      "115:\tlearn: 0.2689031\ttotal: 351ms\tremaining: 2.67s\n",
      "116:\tlearn: 0.2688454\ttotal: 353ms\tremaining: 2.66s\n",
      "117:\tlearn: 0.2686413\ttotal: 360ms\tremaining: 2.69s\n",
      "118:\tlearn: 0.2682852\ttotal: 362ms\tremaining: 2.68s\n",
      "119:\tlearn: 0.2679918\ttotal: 365ms\tremaining: 2.68s\n",
      "120:\tlearn: 0.2674866\ttotal: 367ms\tremaining: 2.67s\n",
      "121:\tlearn: 0.2672084\ttotal: 369ms\tremaining: 2.65s\n",
      "122:\tlearn: 0.2667808\ttotal: 374ms\tremaining: 2.67s\n",
      "123:\tlearn: 0.2663047\ttotal: 377ms\tremaining: 2.66s\n",
      "124:\tlearn: 0.2660056\ttotal: 380ms\tremaining: 2.66s\n",
      "125:\tlearn: 0.2658725\ttotal: 382ms\tremaining: 2.65s\n",
      "126:\tlearn: 0.2655755\ttotal: 386ms\tremaining: 2.65s\n",
      "127:\tlearn: 0.2652140\ttotal: 389ms\tremaining: 2.65s\n",
      "128:\tlearn: 0.2648225\ttotal: 391ms\tremaining: 2.64s\n",
      "129:\tlearn: 0.2643655\ttotal: 395ms\tremaining: 2.64s\n",
      "130:\tlearn: 0.2638812\ttotal: 398ms\tremaining: 2.64s\n",
      "131:\tlearn: 0.2633473\ttotal: 403ms\tremaining: 2.65s\n",
      "132:\tlearn: 0.2629707\ttotal: 406ms\tremaining: 2.65s\n",
      "133:\tlearn: 0.2625886\ttotal: 408ms\tremaining: 2.64s\n",
      "134:\tlearn: 0.2623707\ttotal: 411ms\tremaining: 2.63s\n",
      "135:\tlearn: 0.2621851\ttotal: 420ms\tremaining: 2.67s\n",
      "136:\tlearn: 0.2617007\ttotal: 423ms\tremaining: 2.66s\n",
      "137:\tlearn: 0.2613247\ttotal: 426ms\tremaining: 2.66s\n",
      "138:\tlearn: 0.2609906\ttotal: 429ms\tremaining: 2.65s\n",
      "139:\tlearn: 0.2607246\ttotal: 431ms\tremaining: 2.65s\n",
      "140:\tlearn: 0.2601683\ttotal: 434ms\tremaining: 2.64s\n",
      "141:\tlearn: 0.2597232\ttotal: 436ms\tremaining: 2.63s\n",
      "142:\tlearn: 0.2591484\ttotal: 439ms\tremaining: 2.63s\n",
      "143:\tlearn: 0.2586143\ttotal: 443ms\tremaining: 2.63s\n",
      "144:\tlearn: 0.2584464\ttotal: 451ms\tremaining: 2.66s\n",
      "145:\tlearn: 0.2581087\ttotal: 458ms\tremaining: 2.68s\n",
      "146:\tlearn: 0.2578121\ttotal: 460ms\tremaining: 2.67s\n",
      "147:\tlearn: 0.2575763\ttotal: 473ms\tremaining: 2.73s\n",
      "148:\tlearn: 0.2571514\ttotal: 476ms\tremaining: 2.72s\n",
      "149:\tlearn: 0.2569883\ttotal: 478ms\tremaining: 2.71s\n",
      "150:\tlearn: 0.2564316\ttotal: 482ms\tremaining: 2.71s\n",
      "151:\tlearn: 0.2560251\ttotal: 487ms\tremaining: 2.72s\n",
      "152:\tlearn: 0.2555384\ttotal: 490ms\tremaining: 2.71s\n",
      "153:\tlearn: 0.2552285\ttotal: 493ms\tremaining: 2.71s\n",
      "154:\tlearn: 0.2549382\ttotal: 496ms\tremaining: 2.7s\n",
      "155:\tlearn: 0.2544800\ttotal: 497ms\tremaining: 2.69s\n",
      "156:\tlearn: 0.2542323\ttotal: 507ms\tremaining: 2.72s\n",
      "157:\tlearn: 0.2540004\ttotal: 509ms\tremaining: 2.71s\n",
      "158:\tlearn: 0.2535254\ttotal: 513ms\tremaining: 2.71s\n",
      "159:\tlearn: 0.2531255\ttotal: 521ms\tremaining: 2.73s\n",
      "160:\tlearn: 0.2527192\ttotal: 523ms\tremaining: 2.72s\n",
      "161:\tlearn: 0.2521632\ttotal: 526ms\tremaining: 2.72s\n",
      "162:\tlearn: 0.2518233\ttotal: 533ms\tremaining: 2.73s\n",
      "163:\tlearn: 0.2511518\ttotal: 536ms\tremaining: 2.73s\n",
      "164:\tlearn: 0.2505238\ttotal: 538ms\tremaining: 2.72s\n",
      "165:\tlearn: 0.2501120\ttotal: 540ms\tremaining: 2.71s\n",
      "166:\tlearn: 0.2498799\ttotal: 543ms\tremaining: 2.71s\n",
      "167:\tlearn: 0.2495347\ttotal: 550ms\tremaining: 2.72s\n",
      "168:\tlearn: 0.2490371\ttotal: 552ms\tremaining: 2.71s\n",
      "169:\tlearn: 0.2486365\ttotal: 557ms\tremaining: 2.72s\n",
      "170:\tlearn: 0.2484803\ttotal: 559ms\tremaining: 2.71s\n",
      "171:\tlearn: 0.2482105\ttotal: 561ms\tremaining: 2.7s\n",
      "172:\tlearn: 0.2480448\ttotal: 563ms\tremaining: 2.69s\n",
      "173:\tlearn: 0.2475342\ttotal: 573ms\tremaining: 2.72s\n",
      "174:\tlearn: 0.2471122\ttotal: 576ms\tremaining: 2.72s\n",
      "175:\tlearn: 0.2466902\ttotal: 579ms\tremaining: 2.71s\n",
      "176:\tlearn: 0.2465290\ttotal: 587ms\tremaining: 2.73s\n",
      "177:\tlearn: 0.2462196\ttotal: 590ms\tremaining: 2.72s\n",
      "178:\tlearn: 0.2460432\ttotal: 594ms\tremaining: 2.72s\n",
      "179:\tlearn: 0.2456739\ttotal: 601ms\tremaining: 2.74s\n",
      "180:\tlearn: 0.2452701\ttotal: 603ms\tremaining: 2.73s\n",
      "181:\tlearn: 0.2449140\ttotal: 605ms\tremaining: 2.72s\n",
      "182:\tlearn: 0.2446744\ttotal: 607ms\tremaining: 2.71s\n",
      "183:\tlearn: 0.2443051\ttotal: 614ms\tremaining: 2.72s\n",
      "184:\tlearn: 0.2438665\ttotal: 615ms\tremaining: 2.71s\n",
      "185:\tlearn: 0.2436867\ttotal: 617ms\tremaining: 2.7s\n",
      "186:\tlearn: 0.2433448\ttotal: 620ms\tremaining: 2.69s\n",
      "187:\tlearn: 0.2429603\ttotal: 623ms\tremaining: 2.69s\n",
      "188:\tlearn: 0.2425181\ttotal: 629ms\tremaining: 2.7s\n",
      "189:\tlearn: 0.2421553\ttotal: 631ms\tremaining: 2.69s\n",
      "190:\tlearn: 0.2420786\ttotal: 634ms\tremaining: 2.68s\n",
      "191:\tlearn: 0.2413628\ttotal: 637ms\tremaining: 2.68s\n",
      "192:\tlearn: 0.2407866\ttotal: 645ms\tremaining: 2.7s\n",
      "193:\tlearn: 0.2405688\ttotal: 648ms\tremaining: 2.69s\n",
      "194:\tlearn: 0.2402101\ttotal: 650ms\tremaining: 2.68s\n",
      "195:\tlearn: 0.2397906\ttotal: 660ms\tremaining: 2.71s\n",
      "196:\tlearn: 0.2394463\ttotal: 663ms\tremaining: 2.7s\n",
      "197:\tlearn: 0.2390265\ttotal: 666ms\tremaining: 2.7s\n",
      "198:\tlearn: 0.2388124\ttotal: 670ms\tremaining: 2.7s\n",
      "199:\tlearn: 0.2384582\ttotal: 672ms\tremaining: 2.69s\n",
      "200:\tlearn: 0.2382709\ttotal: 674ms\tremaining: 2.68s\n",
      "201:\tlearn: 0.2380898\ttotal: 676ms\tremaining: 2.67s\n",
      "202:\tlearn: 0.2376082\ttotal: 679ms\tremaining: 2.67s\n",
      "203:\tlearn: 0.2373648\ttotal: 688ms\tremaining: 2.68s\n",
      "204:\tlearn: 0.2369341\ttotal: 694ms\tremaining: 2.69s\n",
      "205:\tlearn: 0.2367498\ttotal: 711ms\tremaining: 2.74s\n",
      "206:\tlearn: 0.2363708\ttotal: 717ms\tremaining: 2.75s\n",
      "207:\tlearn: 0.2361329\ttotal: 720ms\tremaining: 2.74s\n",
      "208:\tlearn: 0.2357462\ttotal: 723ms\tremaining: 2.73s\n",
      "209:\tlearn: 0.2354041\ttotal: 725ms\tremaining: 2.73s\n",
      "210:\tlearn: 0.2352123\ttotal: 732ms\tremaining: 2.74s\n",
      "211:\tlearn: 0.2346389\ttotal: 735ms\tremaining: 2.73s\n",
      "212:\tlearn: 0.2342981\ttotal: 737ms\tremaining: 2.72s\n",
      "213:\tlearn: 0.2339093\ttotal: 740ms\tremaining: 2.72s\n",
      "214:\tlearn: 0.2335337\ttotal: 744ms\tremaining: 2.72s\n",
      "215:\tlearn: 0.2331234\ttotal: 746ms\tremaining: 2.71s\n",
      "216:\tlearn: 0.2326018\ttotal: 749ms\tremaining: 2.7s\n",
      "217:\tlearn: 0.2322708\ttotal: 755ms\tremaining: 2.71s\n",
      "218:\tlearn: 0.2318678\ttotal: 757ms\tremaining: 2.7s\n",
      "219:\tlearn: 0.2313673\ttotal: 761ms\tremaining: 2.7s\n",
      "220:\tlearn: 0.2310343\ttotal: 763ms\tremaining: 2.69s\n",
      "221:\tlearn: 0.2307805\ttotal: 766ms\tremaining: 2.69s\n",
      "222:\tlearn: 0.2304745\ttotal: 770ms\tremaining: 2.68s\n",
      "223:\tlearn: 0.2302112\ttotal: 773ms\tremaining: 2.68s\n",
      "224:\tlearn: 0.2296208\ttotal: 776ms\tremaining: 2.67s\n",
      "225:\tlearn: 0.2290767\ttotal: 778ms\tremaining: 2.66s\n",
      "226:\tlearn: 0.2285596\ttotal: 783ms\tremaining: 2.67s\n",
      "227:\tlearn: 0.2279985\ttotal: 788ms\tremaining: 2.67s\n",
      "228:\tlearn: 0.2275032\ttotal: 791ms\tremaining: 2.66s\n",
      "229:\tlearn: 0.2270540\ttotal: 795ms\tremaining: 2.66s\n",
      "230:\tlearn: 0.2267381\ttotal: 801ms\tremaining: 2.67s\n",
      "231:\tlearn: 0.2265276\ttotal: 803ms\tremaining: 2.66s\n",
      "232:\tlearn: 0.2261329\ttotal: 807ms\tremaining: 2.66s\n",
      "233:\tlearn: 0.2256736\ttotal: 812ms\tremaining: 2.66s\n",
      "234:\tlearn: 0.2252346\ttotal: 814ms\tremaining: 2.65s\n",
      "235:\tlearn: 0.2247614\ttotal: 817ms\tremaining: 2.64s\n",
      "236:\tlearn: 0.2246026\ttotal: 821ms\tremaining: 2.64s\n",
      "237:\tlearn: 0.2243808\ttotal: 832ms\tremaining: 2.66s\n",
      "238:\tlearn: 0.2239675\ttotal: 834ms\tremaining: 2.66s\n",
      "239:\tlearn: 0.2236099\ttotal: 845ms\tremaining: 2.68s\n",
      "240:\tlearn: 0.2231704\ttotal: 859ms\tremaining: 2.7s\n",
      "241:\tlearn: 0.2228409\ttotal: 861ms\tremaining: 2.7s\n",
      "242:\tlearn: 0.2225075\ttotal: 865ms\tremaining: 2.69s\n",
      "243:\tlearn: 0.2222034\ttotal: 873ms\tremaining: 2.71s\n",
      "244:\tlearn: 0.2218944\ttotal: 878ms\tremaining: 2.71s\n",
      "245:\tlearn: 0.2214420\ttotal: 881ms\tremaining: 2.7s\n",
      "246:\tlearn: 0.2210853\ttotal: 884ms\tremaining: 2.69s\n",
      "247:\tlearn: 0.2207482\ttotal: 889ms\tremaining: 2.69s\n",
      "248:\tlearn: 0.2204964\ttotal: 893ms\tremaining: 2.69s\n",
      "249:\tlearn: 0.2202014\ttotal: 895ms\tremaining: 2.69s\n",
      "250:\tlearn: 0.2200226\ttotal: 900ms\tremaining: 2.68s\n",
      "251:\tlearn: 0.2196859\ttotal: 907ms\tremaining: 2.69s\n",
      "252:\tlearn: 0.2193758\ttotal: 910ms\tremaining: 2.69s\n",
      "253:\tlearn: 0.2191040\ttotal: 912ms\tremaining: 2.68s\n",
      "254:\tlearn: 0.2186663\ttotal: 914ms\tremaining: 2.67s\n",
      "255:\tlearn: 0.2183384\ttotal: 917ms\tremaining: 2.67s\n",
      "256:\tlearn: 0.2179360\ttotal: 921ms\tremaining: 2.66s\n",
      "257:\tlearn: 0.2172953\ttotal: 923ms\tremaining: 2.65s\n",
      "258:\tlearn: 0.2170169\ttotal: 927ms\tremaining: 2.65s\n",
      "259:\tlearn: 0.2168813\ttotal: 930ms\tremaining: 2.65s\n",
      "260:\tlearn: 0.2165399\ttotal: 931ms\tremaining: 2.64s\n",
      "261:\tlearn: 0.2162989\ttotal: 933ms\tremaining: 2.63s\n",
      "262:\tlearn: 0.2161832\ttotal: 936ms\tremaining: 2.62s\n",
      "263:\tlearn: 0.2159513\ttotal: 942ms\tremaining: 2.63s\n",
      "264:\tlearn: 0.2155292\ttotal: 945ms\tremaining: 2.62s\n",
      "265:\tlearn: 0.2152427\ttotal: 947ms\tremaining: 2.61s\n",
      "266:\tlearn: 0.2151211\ttotal: 949ms\tremaining: 2.6s\n",
      "267:\tlearn: 0.2147857\ttotal: 952ms\tremaining: 2.6s\n",
      "268:\tlearn: 0.2145280\ttotal: 958ms\tremaining: 2.6s\n",
      "269:\tlearn: 0.2141310\ttotal: 961ms\tremaining: 2.6s\n",
      "270:\tlearn: 0.2136035\ttotal: 963ms\tremaining: 2.59s\n",
      "271:\tlearn: 0.2133231\ttotal: 965ms\tremaining: 2.58s\n",
      "272:\tlearn: 0.2129384\ttotal: 970ms\tremaining: 2.58s\n",
      "273:\tlearn: 0.2125561\ttotal: 972ms\tremaining: 2.58s\n",
      "274:\tlearn: 0.2122140\ttotal: 974ms\tremaining: 2.57s\n",
      "275:\tlearn: 0.2118369\ttotal: 976ms\tremaining: 2.56s\n",
      "276:\tlearn: 0.2118259\ttotal: 978ms\tremaining: 2.55s\n",
      "277:\tlearn: 0.2116210\ttotal: 980ms\tremaining: 2.54s\n",
      "278:\tlearn: 0.2113489\ttotal: 985ms\tremaining: 2.54s\n",
      "279:\tlearn: 0.2109433\ttotal: 988ms\tremaining: 2.54s\n",
      "280:\tlearn: 0.2105086\ttotal: 991ms\tremaining: 2.54s\n",
      "281:\tlearn: 0.2101363\ttotal: 999ms\tremaining: 2.54s\n",
      "282:\tlearn: 0.2098638\ttotal: 1s\tremaining: 2.54s\n",
      "283:\tlearn: 0.2094783\ttotal: 1s\tremaining: 2.53s\n",
      "284:\tlearn: 0.2090911\ttotal: 1s\tremaining: 2.52s\n",
      "285:\tlearn: 0.2088101\ttotal: 1.01s\tremaining: 2.52s\n",
      "286:\tlearn: 0.2086298\ttotal: 1.01s\tremaining: 2.52s\n",
      "287:\tlearn: 0.2084814\ttotal: 1.02s\tremaining: 2.51s\n",
      "288:\tlearn: 0.2080377\ttotal: 1.02s\tremaining: 2.51s\n",
      "289:\tlearn: 0.2080135\ttotal: 1.03s\tremaining: 2.52s\n",
      "290:\tlearn: 0.2078830\ttotal: 1.03s\tremaining: 2.52s\n",
      "291:\tlearn: 0.2075869\ttotal: 1.03s\tremaining: 2.51s\n",
      "292:\tlearn: 0.2073814\ttotal: 1.04s\tremaining: 2.5s\n",
      "293:\tlearn: 0.2072262\ttotal: 1.04s\tremaining: 2.5s\n",
      "294:\tlearn: 0.2069301\ttotal: 1.04s\tremaining: 2.49s\n",
      "295:\tlearn: 0.2066880\ttotal: 1.05s\tremaining: 2.5s\n",
      "296:\tlearn: 0.2064919\ttotal: 1.06s\tremaining: 2.5s\n",
      "297:\tlearn: 0.2062261\ttotal: 1.06s\tremaining: 2.49s\n",
      "298:\tlearn: 0.2060638\ttotal: 1.06s\tremaining: 2.49s\n",
      "299:\tlearn: 0.2057514\ttotal: 1.07s\tremaining: 2.5s\n",
      "300:\tlearn: 0.2052543\ttotal: 1.07s\tremaining: 2.49s\n",
      "301:\tlearn: 0.2048054\ttotal: 1.07s\tremaining: 2.48s\n",
      "302:\tlearn: 0.2046545\ttotal: 1.08s\tremaining: 2.5s\n",
      "303:\tlearn: 0.2041396\ttotal: 1.09s\tremaining: 2.49s\n",
      "304:\tlearn: 0.2040727\ttotal: 1.09s\tremaining: 2.49s\n",
      "305:\tlearn: 0.2038501\ttotal: 1.1s\tremaining: 2.49s\n",
      "306:\tlearn: 0.2037534\ttotal: 1.1s\tremaining: 2.49s\n",
      "307:\tlearn: 0.2035074\ttotal: 1.11s\tremaining: 2.49s\n",
      "308:\tlearn: 0.2032749\ttotal: 1.11s\tremaining: 2.49s\n",
      "309:\tlearn: 0.2030682\ttotal: 1.12s\tremaining: 2.49s\n",
      "310:\tlearn: 0.2028927\ttotal: 1.12s\tremaining: 2.48s\n",
      "311:\tlearn: 0.2026399\ttotal: 1.13s\tremaining: 2.49s\n",
      "312:\tlearn: 0.2023805\ttotal: 1.13s\tremaining: 2.48s\n",
      "313:\tlearn: 0.2021933\ttotal: 1.13s\tremaining: 2.48s\n",
      "314:\tlearn: 0.2018811\ttotal: 1.14s\tremaining: 2.48s\n",
      "315:\tlearn: 0.2014460\ttotal: 1.14s\tremaining: 2.48s\n",
      "316:\tlearn: 0.2013843\ttotal: 1.15s\tremaining: 2.47s\n",
      "317:\tlearn: 0.2011544\ttotal: 1.15s\tremaining: 2.46s\n",
      "318:\tlearn: 0.2008458\ttotal: 1.16s\tremaining: 2.47s\n",
      "319:\tlearn: 0.2007096\ttotal: 1.16s\tremaining: 2.46s\n",
      "320:\tlearn: 0.2004211\ttotal: 1.16s\tremaining: 2.45s\n",
      "321:\tlearn: 0.2001634\ttotal: 1.16s\tremaining: 2.45s\n",
      "322:\tlearn: 0.2000885\ttotal: 1.17s\tremaining: 2.46s\n",
      "323:\tlearn: 0.1999420\ttotal: 1.19s\tremaining: 2.48s\n",
      "324:\tlearn: 0.1998196\ttotal: 1.19s\tremaining: 2.47s\n",
      "325:\tlearn: 0.1997600\ttotal: 1.2s\tremaining: 2.48s\n",
      "326:\tlearn: 0.1994235\ttotal: 1.2s\tremaining: 2.48s\n",
      "327:\tlearn: 0.1993178\ttotal: 1.21s\tremaining: 2.47s\n",
      "328:\tlearn: 0.1991398\ttotal: 1.21s\tremaining: 2.48s\n",
      "329:\tlearn: 0.1990584\ttotal: 1.22s\tremaining: 2.48s\n",
      "330:\tlearn: 0.1988701\ttotal: 1.22s\tremaining: 2.47s\n",
      "331:\tlearn: 0.1985204\ttotal: 1.23s\tremaining: 2.47s\n",
      "332:\tlearn: 0.1982055\ttotal: 1.23s\tremaining: 2.46s\n",
      "333:\tlearn: 0.1981857\ttotal: 1.23s\tremaining: 2.46s\n",
      "334:\tlearn: 0.1979321\ttotal: 1.24s\tremaining: 2.45s\n",
      "335:\tlearn: 0.1975938\ttotal: 1.24s\tremaining: 2.45s\n",
      "336:\tlearn: 0.1973623\ttotal: 1.24s\tremaining: 2.44s\n",
      "337:\tlearn: 0.1970487\ttotal: 1.24s\tremaining: 2.44s\n",
      "338:\tlearn: 0.1968160\ttotal: 1.25s\tremaining: 2.44s\n",
      "339:\tlearn: 0.1964440\ttotal: 1.25s\tremaining: 2.43s\n",
      "340:\tlearn: 0.1962842\ttotal: 1.25s\tremaining: 2.42s\n",
      "341:\tlearn: 0.1962016\ttotal: 1.26s\tremaining: 2.42s\n",
      "342:\tlearn: 0.1960124\ttotal: 1.29s\tremaining: 2.47s\n",
      "343:\tlearn: 0.1959428\ttotal: 1.3s\tremaining: 2.47s\n",
      "344:\tlearn: 0.1957110\ttotal: 1.3s\tremaining: 2.47s\n",
      "345:\tlearn: 0.1954964\ttotal: 1.3s\tremaining: 2.46s\n",
      "346:\tlearn: 0.1954739\ttotal: 1.3s\tremaining: 2.45s\n",
      "347:\tlearn: 0.1952767\ttotal: 1.31s\tremaining: 2.46s\n",
      "348:\tlearn: 0.1950449\ttotal: 1.31s\tremaining: 2.45s\n",
      "349:\tlearn: 0.1950031\ttotal: 1.32s\tremaining: 2.45s\n",
      "350:\tlearn: 0.1948826\ttotal: 1.32s\tremaining: 2.44s\n",
      "351:\tlearn: 0.1946090\ttotal: 1.32s\tremaining: 2.44s\n",
      "352:\tlearn: 0.1943259\ttotal: 1.33s\tremaining: 2.43s\n",
      "353:\tlearn: 0.1942173\ttotal: 1.33s\tremaining: 2.43s\n",
      "354:\tlearn: 0.1939057\ttotal: 1.33s\tremaining: 2.42s\n",
      "355:\tlearn: 0.1938043\ttotal: 1.33s\tremaining: 2.41s\n",
      "356:\tlearn: 0.1937901\ttotal: 1.34s\tremaining: 2.41s\n",
      "357:\tlearn: 0.1932684\ttotal: 1.34s\tremaining: 2.41s\n",
      "358:\tlearn: 0.1932001\ttotal: 1.35s\tremaining: 2.41s\n",
      "359:\tlearn: 0.1929871\ttotal: 1.35s\tremaining: 2.4s\n",
      "360:\tlearn: 0.1925969\ttotal: 1.36s\tremaining: 2.4s\n",
      "361:\tlearn: 0.1924212\ttotal: 1.36s\tremaining: 2.4s\n",
      "362:\tlearn: 0.1922166\ttotal: 1.36s\tremaining: 2.39s\n",
      "363:\tlearn: 0.1918413\ttotal: 1.36s\tremaining: 2.38s\n",
      "364:\tlearn: 0.1915937\ttotal: 1.37s\tremaining: 2.39s\n",
      "365:\tlearn: 0.1915347\ttotal: 1.38s\tremaining: 2.38s\n",
      "366:\tlearn: 0.1914743\ttotal: 1.38s\tremaining: 2.38s\n",
      "367:\tlearn: 0.1911675\ttotal: 1.39s\tremaining: 2.38s\n",
      "368:\tlearn: 0.1909987\ttotal: 1.39s\tremaining: 2.37s\n",
      "369:\tlearn: 0.1907868\ttotal: 1.39s\tremaining: 2.37s\n",
      "370:\tlearn: 0.1905933\ttotal: 1.39s\tremaining: 2.36s\n",
      "371:\tlearn: 0.1904041\ttotal: 1.4s\tremaining: 2.37s\n",
      "372:\tlearn: 0.1903755\ttotal: 1.41s\tremaining: 2.36s\n",
      "373:\tlearn: 0.1902102\ttotal: 1.41s\tremaining: 2.35s\n",
      "374:\tlearn: 0.1900327\ttotal: 1.42s\tremaining: 2.36s\n",
      "375:\tlearn: 0.1898981\ttotal: 1.42s\tremaining: 2.35s\n",
      "376:\tlearn: 0.1895917\ttotal: 1.42s\tremaining: 2.35s\n",
      "377:\tlearn: 0.1894252\ttotal: 1.42s\tremaining: 2.34s\n",
      "378:\tlearn: 0.1890225\ttotal: 1.43s\tremaining: 2.34s\n",
      "379:\tlearn: 0.1887973\ttotal: 1.43s\tremaining: 2.34s\n",
      "380:\tlearn: 0.1887562\ttotal: 1.44s\tremaining: 2.33s\n",
      "381:\tlearn: 0.1884022\ttotal: 1.44s\tremaining: 2.33s\n",
      "382:\tlearn: 0.1883506\ttotal: 1.44s\tremaining: 2.32s\n",
      "383:\tlearn: 0.1881269\ttotal: 1.45s\tremaining: 2.32s\n",
      "384:\tlearn: 0.1881093\ttotal: 1.45s\tremaining: 2.31s\n",
      "385:\tlearn: 0.1876896\ttotal: 1.45s\tremaining: 2.31s\n",
      "386:\tlearn: 0.1876601\ttotal: 1.45s\tremaining: 2.3s\n",
      "387:\tlearn: 0.1874611\ttotal: 1.45s\tremaining: 2.29s\n",
      "388:\tlearn: 0.1871982\ttotal: 1.47s\tremaining: 2.31s\n",
      "389:\tlearn: 0.1871868\ttotal: 1.47s\tremaining: 2.31s\n",
      "390:\tlearn: 0.1870812\ttotal: 1.48s\tremaining: 2.3s\n",
      "391:\tlearn: 0.1868955\ttotal: 1.48s\tremaining: 2.29s\n",
      "392:\tlearn: 0.1867235\ttotal: 1.48s\tremaining: 2.29s\n",
      "393:\tlearn: 0.1865448\ttotal: 1.48s\tremaining: 2.28s\n",
      "394:\tlearn: 0.1864247\ttotal: 1.49s\tremaining: 2.28s\n",
      "395:\tlearn: 0.1861828\ttotal: 1.49s\tremaining: 2.27s\n",
      "396:\tlearn: 0.1859678\ttotal: 1.49s\tremaining: 2.27s\n",
      "397:\tlearn: 0.1858188\ttotal: 1.5s\tremaining: 2.26s\n",
      "398:\tlearn: 0.1856777\ttotal: 1.5s\tremaining: 2.26s\n",
      "399:\tlearn: 0.1856437\ttotal: 1.53s\tremaining: 2.29s\n",
      "400:\tlearn: 0.1854514\ttotal: 1.53s\tremaining: 2.29s\n",
      "401:\tlearn: 0.1851174\ttotal: 1.53s\tremaining: 2.28s\n",
      "402:\tlearn: 0.1849636\ttotal: 1.54s\tremaining: 2.29s\n",
      "403:\tlearn: 0.1846943\ttotal: 1.55s\tremaining: 2.28s\n",
      "404:\tlearn: 0.1846119\ttotal: 1.56s\tremaining: 2.29s\n",
      "405:\tlearn: 0.1844442\ttotal: 1.56s\tremaining: 2.29s\n",
      "406:\tlearn: 0.1841347\ttotal: 1.57s\tremaining: 2.28s\n",
      "407:\tlearn: 0.1838838\ttotal: 1.57s\tremaining: 2.28s\n",
      "408:\tlearn: 0.1836410\ttotal: 1.57s\tremaining: 2.27s\n",
      "409:\tlearn: 0.1834746\ttotal: 1.58s\tremaining: 2.27s\n",
      "410:\tlearn: 0.1834012\ttotal: 1.59s\tremaining: 2.27s\n",
      "411:\tlearn: 0.1831528\ttotal: 1.59s\tremaining: 2.27s\n",
      "412:\tlearn: 0.1830816\ttotal: 1.59s\tremaining: 2.26s\n",
      "413:\tlearn: 0.1829174\ttotal: 1.59s\tremaining: 2.25s\n",
      "414:\tlearn: 0.1828225\ttotal: 1.6s\tremaining: 2.25s\n",
      "415:\tlearn: 0.1823893\ttotal: 1.6s\tremaining: 2.25s\n",
      "416:\tlearn: 0.1820201\ttotal: 1.61s\tremaining: 2.25s\n",
      "417:\tlearn: 0.1818773\ttotal: 1.61s\tremaining: 2.25s\n",
      "418:\tlearn: 0.1816611\ttotal: 1.61s\tremaining: 2.24s\n",
      "419:\tlearn: 0.1814663\ttotal: 1.62s\tremaining: 2.23s\n",
      "420:\tlearn: 0.1813095\ttotal: 1.62s\tremaining: 2.23s\n",
      "421:\tlearn: 0.1811928\ttotal: 1.63s\tremaining: 2.23s\n",
      "422:\tlearn: 0.1810595\ttotal: 1.65s\tremaining: 2.25s\n",
      "423:\tlearn: 0.1809365\ttotal: 1.66s\tremaining: 2.25s\n",
      "424:\tlearn: 0.1807406\ttotal: 1.66s\tremaining: 2.25s\n",
      "425:\tlearn: 0.1804151\ttotal: 1.68s\tremaining: 2.26s\n",
      "426:\tlearn: 0.1801019\ttotal: 1.68s\tremaining: 2.26s\n",
      "427:\tlearn: 0.1798892\ttotal: 1.68s\tremaining: 2.25s\n",
      "428:\tlearn: 0.1798412\ttotal: 1.69s\tremaining: 2.25s\n",
      "429:\tlearn: 0.1798264\ttotal: 1.69s\tremaining: 2.24s\n",
      "430:\tlearn: 0.1798205\ttotal: 1.69s\tremaining: 2.24s\n",
      "431:\tlearn: 0.1795764\ttotal: 1.7s\tremaining: 2.23s\n",
      "432:\tlearn: 0.1795125\ttotal: 1.7s\tremaining: 2.23s\n",
      "433:\tlearn: 0.1795001\ttotal: 1.71s\tremaining: 2.23s\n",
      "434:\tlearn: 0.1793380\ttotal: 1.71s\tremaining: 2.23s\n",
      "435:\tlearn: 0.1793253\ttotal: 1.73s\tremaining: 2.23s\n",
      "436:\tlearn: 0.1789958\ttotal: 1.73s\tremaining: 2.23s\n",
      "437:\tlearn: 0.1788808\ttotal: 1.73s\tremaining: 2.22s\n",
      "438:\tlearn: 0.1788630\ttotal: 1.73s\tremaining: 2.22s\n",
      "439:\tlearn: 0.1787671\ttotal: 1.74s\tremaining: 2.21s\n",
      "440:\tlearn: 0.1787554\ttotal: 1.74s\tremaining: 2.21s\n",
      "441:\tlearn: 0.1786176\ttotal: 1.74s\tremaining: 2.2s\n",
      "442:\tlearn: 0.1785554\ttotal: 1.75s\tremaining: 2.2s\n",
      "443:\tlearn: 0.1785149\ttotal: 1.75s\tremaining: 2.19s\n",
      "444:\tlearn: 0.1783550\ttotal: 1.76s\tremaining: 2.19s\n",
      "445:\tlearn: 0.1780491\ttotal: 1.76s\tremaining: 2.18s\n",
      "446:\tlearn: 0.1780303\ttotal: 1.76s\tremaining: 2.18s\n",
      "447:\tlearn: 0.1780142\ttotal: 1.76s\tremaining: 2.17s\n",
      "448:\tlearn: 0.1778669\ttotal: 1.77s\tremaining: 2.17s\n",
      "449:\tlearn: 0.1777455\ttotal: 1.77s\tremaining: 2.16s\n",
      "450:\tlearn: 0.1774989\ttotal: 1.77s\tremaining: 2.16s\n",
      "451:\tlearn: 0.1772991\ttotal: 1.77s\tremaining: 2.15s\n",
      "452:\tlearn: 0.1771997\ttotal: 1.77s\tremaining: 2.14s\n",
      "453:\tlearn: 0.1769517\ttotal: 1.78s\tremaining: 2.14s\n",
      "454:\tlearn: 0.1766655\ttotal: 1.78s\tremaining: 2.14s\n",
      "455:\tlearn: 0.1764836\ttotal: 1.79s\tremaining: 2.14s\n",
      "456:\tlearn: 0.1763836\ttotal: 1.8s\tremaining: 2.14s\n",
      "457:\tlearn: 0.1761765\ttotal: 1.8s\tremaining: 2.13s\n",
      "458:\tlearn: 0.1760279\ttotal: 1.8s\tremaining: 2.13s\n",
      "459:\tlearn: 0.1758855\ttotal: 1.8s\tremaining: 2.12s\n",
      "460:\tlearn: 0.1758758\ttotal: 1.81s\tremaining: 2.12s\n",
      "461:\tlearn: 0.1757534\ttotal: 1.82s\tremaining: 2.12s\n",
      "462:\tlearn: 0.1757406\ttotal: 1.83s\tremaining: 2.12s\n",
      "463:\tlearn: 0.1757295\ttotal: 1.83s\tremaining: 2.11s\n",
      "464:\tlearn: 0.1756167\ttotal: 1.83s\tremaining: 2.11s\n",
      "465:\tlearn: 0.1753581\ttotal: 1.83s\tremaining: 2.1s\n",
      "466:\tlearn: 0.1752397\ttotal: 1.84s\tremaining: 2.1s\n",
      "467:\tlearn: 0.1751768\ttotal: 1.84s\tremaining: 2.09s\n",
      "468:\tlearn: 0.1749795\ttotal: 1.84s\tremaining: 2.08s\n",
      "469:\tlearn: 0.1748168\ttotal: 1.84s\tremaining: 2.08s\n",
      "470:\tlearn: 0.1746773\ttotal: 1.85s\tremaining: 2.08s\n",
      "471:\tlearn: 0.1745049\ttotal: 1.85s\tremaining: 2.07s\n",
      "472:\tlearn: 0.1742431\ttotal: 1.85s\tremaining: 2.07s\n",
      "473:\tlearn: 0.1741224\ttotal: 1.86s\tremaining: 2.06s\n",
      "474:\tlearn: 0.1739640\ttotal: 1.86s\tremaining: 2.06s\n",
      "475:\tlearn: 0.1738424\ttotal: 1.86s\tremaining: 2.05s\n",
      "476:\tlearn: 0.1738313\ttotal: 1.87s\tremaining: 2.05s\n",
      "477:\tlearn: 0.1737815\ttotal: 1.87s\tremaining: 2.04s\n",
      "478:\tlearn: 0.1735013\ttotal: 1.87s\tremaining: 2.04s\n",
      "479:\tlearn: 0.1732880\ttotal: 1.88s\tremaining: 2.03s\n",
      "480:\tlearn: 0.1731427\ttotal: 1.88s\tremaining: 2.03s\n",
      "481:\tlearn: 0.1730544\ttotal: 1.89s\tremaining: 2.03s\n",
      "482:\tlearn: 0.1730187\ttotal: 1.89s\tremaining: 2.02s\n",
      "483:\tlearn: 0.1729052\ttotal: 1.89s\tremaining: 2.02s\n",
      "484:\tlearn: 0.1728175\ttotal: 1.89s\tremaining: 2.01s\n",
      "485:\tlearn: 0.1725506\ttotal: 1.9s\tremaining: 2.01s\n",
      "486:\tlearn: 0.1724371\ttotal: 1.9s\tremaining: 2s\n",
      "487:\tlearn: 0.1723179\ttotal: 1.9s\tremaining: 2s\n",
      "488:\tlearn: 0.1720740\ttotal: 1.91s\tremaining: 1.99s\n",
      "489:\tlearn: 0.1719516\ttotal: 1.91s\tremaining: 1.99s\n",
      "490:\tlearn: 0.1719459\ttotal: 1.92s\tremaining: 1.99s\n",
      "491:\tlearn: 0.1716693\ttotal: 1.92s\tremaining: 1.98s\n",
      "492:\tlearn: 0.1715359\ttotal: 1.93s\tremaining: 1.98s\n",
      "493:\tlearn: 0.1712869\ttotal: 1.93s\tremaining: 1.98s\n",
      "494:\tlearn: 0.1711177\ttotal: 1.93s\tremaining: 1.97s\n",
      "495:\tlearn: 0.1710701\ttotal: 1.94s\tremaining: 1.97s\n",
      "496:\tlearn: 0.1710578\ttotal: 1.94s\tremaining: 1.96s\n",
      "497:\tlearn: 0.1710117\ttotal: 1.94s\tremaining: 1.96s\n",
      "498:\tlearn: 0.1710083\ttotal: 1.94s\tremaining: 1.95s\n",
      "499:\tlearn: 0.1708371\ttotal: 1.95s\tremaining: 1.95s\n",
      "500:\tlearn: 0.1707393\ttotal: 1.95s\tremaining: 1.94s\n",
      "501:\tlearn: 0.1706270\ttotal: 1.96s\tremaining: 1.94s\n",
      "502:\tlearn: 0.1704998\ttotal: 1.96s\tremaining: 1.93s\n",
      "503:\tlearn: 0.1702387\ttotal: 1.96s\tremaining: 1.93s\n",
      "504:\tlearn: 0.1700940\ttotal: 1.97s\tremaining: 1.93s\n",
      "505:\tlearn: 0.1700245\ttotal: 1.97s\tremaining: 1.92s\n",
      "506:\tlearn: 0.1699132\ttotal: 1.97s\tremaining: 1.92s\n",
      "507:\tlearn: 0.1697625\ttotal: 1.98s\tremaining: 1.91s\n",
      "508:\tlearn: 0.1696381\ttotal: 1.99s\tremaining: 1.92s\n",
      "509:\tlearn: 0.1694736\ttotal: 1.99s\tremaining: 1.91s\n",
      "510:\tlearn: 0.1694410\ttotal: 1.99s\tremaining: 1.91s\n",
      "511:\tlearn: 0.1693963\ttotal: 2s\tremaining: 1.9s\n",
      "512:\tlearn: 0.1693620\ttotal: 2s\tremaining: 1.9s\n",
      "513:\tlearn: 0.1692127\ttotal: 2s\tremaining: 1.89s\n",
      "514:\tlearn: 0.1689916\ttotal: 2.01s\tremaining: 1.89s\n",
      "515:\tlearn: 0.1689803\ttotal: 2.01s\tremaining: 1.89s\n",
      "516:\tlearn: 0.1688327\ttotal: 2.01s\tremaining: 1.88s\n",
      "517:\tlearn: 0.1685956\ttotal: 2.02s\tremaining: 1.88s\n",
      "518:\tlearn: 0.1684831\ttotal: 2.02s\tremaining: 1.87s\n",
      "519:\tlearn: 0.1683337\ttotal: 2.02s\tremaining: 1.87s\n",
      "520:\tlearn: 0.1680975\ttotal: 2.03s\tremaining: 1.86s\n",
      "521:\tlearn: 0.1680124\ttotal: 2.03s\tremaining: 1.86s\n",
      "522:\tlearn: 0.1678450\ttotal: 2.03s\tremaining: 1.85s\n",
      "523:\tlearn: 0.1675369\ttotal: 2.04s\tremaining: 1.85s\n",
      "524:\tlearn: 0.1672978\ttotal: 2.04s\tremaining: 1.84s\n",
      "525:\tlearn: 0.1670888\ttotal: 2.04s\tremaining: 1.84s\n",
      "526:\tlearn: 0.1669421\ttotal: 2.04s\tremaining: 1.84s\n",
      "527:\tlearn: 0.1668759\ttotal: 2.05s\tremaining: 1.83s\n",
      "528:\tlearn: 0.1668710\ttotal: 2.05s\tremaining: 1.83s\n",
      "529:\tlearn: 0.1666628\ttotal: 2.06s\tremaining: 1.82s\n",
      "530:\tlearn: 0.1664641\ttotal: 2.06s\tremaining: 1.82s\n",
      "531:\tlearn: 0.1664565\ttotal: 2.07s\tremaining: 1.82s\n",
      "532:\tlearn: 0.1663220\ttotal: 2.07s\tremaining: 1.81s\n",
      "533:\tlearn: 0.1661488\ttotal: 2.07s\tremaining: 1.81s\n",
      "534:\tlearn: 0.1661297\ttotal: 2.07s\tremaining: 1.8s\n",
      "535:\tlearn: 0.1660347\ttotal: 2.08s\tremaining: 1.8s\n",
      "536:\tlearn: 0.1660019\ttotal: 2.09s\tremaining: 1.8s\n",
      "537:\tlearn: 0.1657362\ttotal: 2.1s\tremaining: 1.8s\n",
      "538:\tlearn: 0.1656264\ttotal: 2.11s\tremaining: 1.8s\n",
      "539:\tlearn: 0.1655707\ttotal: 2.12s\tremaining: 1.8s\n",
      "540:\tlearn: 0.1654204\ttotal: 2.12s\tremaining: 1.8s\n",
      "541:\tlearn: 0.1653106\ttotal: 2.12s\tremaining: 1.79s\n",
      "542:\tlearn: 0.1650973\ttotal: 2.13s\tremaining: 1.79s\n",
      "543:\tlearn: 0.1649152\ttotal: 2.13s\tremaining: 1.79s\n",
      "544:\tlearn: 0.1647822\ttotal: 2.14s\tremaining: 1.78s\n",
      "545:\tlearn: 0.1646334\ttotal: 2.16s\tremaining: 1.79s\n",
      "546:\tlearn: 0.1643885\ttotal: 2.16s\tremaining: 1.79s\n",
      "547:\tlearn: 0.1641718\ttotal: 2.16s\tremaining: 1.78s\n",
      "548:\tlearn: 0.1640312\ttotal: 2.17s\tremaining: 1.78s\n",
      "549:\tlearn: 0.1637912\ttotal: 2.17s\tremaining: 1.78s\n",
      "550:\tlearn: 0.1637028\ttotal: 2.18s\tremaining: 1.77s\n",
      "551:\tlearn: 0.1636485\ttotal: 2.19s\tremaining: 1.77s\n",
      "552:\tlearn: 0.1636388\ttotal: 2.19s\tremaining: 1.77s\n",
      "553:\tlearn: 0.1634359\ttotal: 2.19s\tremaining: 1.76s\n",
      "554:\tlearn: 0.1632118\ttotal: 2.19s\tremaining: 1.76s\n",
      "555:\tlearn: 0.1630724\ttotal: 2.2s\tremaining: 1.75s\n",
      "556:\tlearn: 0.1630496\ttotal: 2.2s\tremaining: 1.75s\n",
      "557:\tlearn: 0.1628741\ttotal: 2.2s\tremaining: 1.75s\n",
      "558:\tlearn: 0.1628705\ttotal: 2.21s\tremaining: 1.75s\n",
      "559:\tlearn: 0.1627986\ttotal: 2.23s\tremaining: 1.75s\n",
      "560:\tlearn: 0.1626656\ttotal: 2.23s\tremaining: 1.74s\n",
      "561:\tlearn: 0.1625367\ttotal: 2.23s\tremaining: 1.74s\n",
      "562:\tlearn: 0.1625280\ttotal: 2.26s\tremaining: 1.75s\n",
      "563:\tlearn: 0.1623026\ttotal: 2.27s\tremaining: 1.75s\n",
      "564:\tlearn: 0.1622229\ttotal: 2.27s\tremaining: 1.75s\n",
      "565:\tlearn: 0.1620313\ttotal: 2.27s\tremaining: 1.74s\n",
      "566:\tlearn: 0.1616924\ttotal: 2.28s\tremaining: 1.74s\n",
      "567:\tlearn: 0.1614951\ttotal: 2.28s\tremaining: 1.74s\n",
      "568:\tlearn: 0.1614876\ttotal: 2.29s\tremaining: 1.73s\n",
      "569:\tlearn: 0.1612870\ttotal: 2.3s\tremaining: 1.73s\n",
      "570:\tlearn: 0.1612533\ttotal: 2.3s\tremaining: 1.73s\n",
      "571:\tlearn: 0.1610896\ttotal: 2.3s\tremaining: 1.72s\n",
      "572:\tlearn: 0.1609688\ttotal: 2.31s\tremaining: 1.72s\n",
      "573:\tlearn: 0.1607859\ttotal: 2.32s\tremaining: 1.72s\n",
      "574:\tlearn: 0.1606814\ttotal: 2.32s\tremaining: 1.72s\n",
      "575:\tlearn: 0.1606315\ttotal: 2.33s\tremaining: 1.71s\n",
      "576:\tlearn: 0.1605309\ttotal: 2.33s\tremaining: 1.71s\n",
      "577:\tlearn: 0.1603991\ttotal: 2.33s\tremaining: 1.7s\n",
      "578:\tlearn: 0.1600750\ttotal: 2.34s\tremaining: 1.7s\n",
      "579:\tlearn: 0.1598308\ttotal: 2.35s\tremaining: 1.7s\n",
      "580:\tlearn: 0.1595784\ttotal: 2.35s\tremaining: 1.7s\n",
      "581:\tlearn: 0.1594895\ttotal: 2.36s\tremaining: 1.69s\n",
      "582:\tlearn: 0.1593743\ttotal: 2.36s\tremaining: 1.69s\n",
      "583:\tlearn: 0.1592588\ttotal: 2.36s\tremaining: 1.68s\n",
      "584:\tlearn: 0.1592093\ttotal: 2.38s\tremaining: 1.69s\n",
      "585:\tlearn: 0.1590770\ttotal: 2.38s\tremaining: 1.68s\n",
      "586:\tlearn: 0.1589817\ttotal: 2.39s\tremaining: 1.68s\n",
      "587:\tlearn: 0.1588176\ttotal: 2.39s\tremaining: 1.68s\n",
      "588:\tlearn: 0.1586770\ttotal: 2.39s\tremaining: 1.67s\n",
      "589:\tlearn: 0.1584609\ttotal: 2.4s\tremaining: 1.67s\n",
      "590:\tlearn: 0.1582785\ttotal: 2.4s\tremaining: 1.66s\n",
      "591:\tlearn: 0.1580237\ttotal: 2.4s\tremaining: 1.66s\n",
      "592:\tlearn: 0.1578904\ttotal: 2.41s\tremaining: 1.65s\n",
      "593:\tlearn: 0.1576259\ttotal: 2.41s\tremaining: 1.65s\n",
      "594:\tlearn: 0.1574964\ttotal: 2.42s\tremaining: 1.65s\n",
      "595:\tlearn: 0.1574255\ttotal: 2.43s\tremaining: 1.65s\n",
      "596:\tlearn: 0.1573950\ttotal: 2.43s\tremaining: 1.64s\n",
      "597:\tlearn: 0.1573163\ttotal: 2.44s\tremaining: 1.64s\n",
      "598:\tlearn: 0.1572494\ttotal: 2.44s\tremaining: 1.64s\n",
      "599:\tlearn: 0.1571690\ttotal: 2.44s\tremaining: 1.63s\n",
      "600:\tlearn: 0.1571083\ttotal: 2.45s\tremaining: 1.63s\n",
      "601:\tlearn: 0.1569418\ttotal: 2.45s\tremaining: 1.62s\n",
      "602:\tlearn: 0.1568216\ttotal: 2.46s\tremaining: 1.62s\n",
      "603:\tlearn: 0.1567332\ttotal: 2.46s\tremaining: 1.61s\n",
      "604:\tlearn: 0.1566380\ttotal: 2.47s\tremaining: 1.61s\n",
      "605:\tlearn: 0.1565461\ttotal: 2.47s\tremaining: 1.61s\n",
      "606:\tlearn: 0.1565417\ttotal: 2.47s\tremaining: 1.6s\n",
      "607:\tlearn: 0.1565099\ttotal: 2.48s\tremaining: 1.6s\n",
      "608:\tlearn: 0.1564328\ttotal: 2.48s\tremaining: 1.59s\n",
      "609:\tlearn: 0.1564282\ttotal: 2.48s\tremaining: 1.59s\n",
      "610:\tlearn: 0.1564235\ttotal: 2.48s\tremaining: 1.58s\n",
      "611:\tlearn: 0.1564166\ttotal: 2.49s\tremaining: 1.58s\n",
      "612:\tlearn: 0.1563174\ttotal: 2.5s\tremaining: 1.57s\n",
      "613:\tlearn: 0.1562079\ttotal: 2.5s\tremaining: 1.57s\n",
      "614:\tlearn: 0.1561539\ttotal: 2.5s\tremaining: 1.57s\n",
      "615:\tlearn: 0.1559591\ttotal: 2.5s\tremaining: 1.56s\n",
      "616:\tlearn: 0.1558252\ttotal: 2.51s\tremaining: 1.56s\n",
      "617:\tlearn: 0.1556158\ttotal: 2.51s\tremaining: 1.55s\n",
      "618:\tlearn: 0.1556111\ttotal: 2.52s\tremaining: 1.55s\n",
      "619:\tlearn: 0.1556056\ttotal: 2.52s\tremaining: 1.54s\n",
      "620:\tlearn: 0.1554023\ttotal: 2.52s\tremaining: 1.54s\n",
      "621:\tlearn: 0.1552571\ttotal: 2.52s\tremaining: 1.53s\n",
      "622:\tlearn: 0.1552326\ttotal: 2.53s\tremaining: 1.53s\n",
      "623:\tlearn: 0.1552281\ttotal: 2.53s\tremaining: 1.52s\n",
      "624:\tlearn: 0.1552161\ttotal: 2.53s\tremaining: 1.52s\n",
      "625:\tlearn: 0.1551015\ttotal: 2.53s\tremaining: 1.51s\n",
      "626:\tlearn: 0.1550398\ttotal: 2.54s\tremaining: 1.51s\n",
      "627:\tlearn: 0.1548366\ttotal: 2.54s\tremaining: 1.5s\n",
      "628:\tlearn: 0.1548307\ttotal: 2.54s\tremaining: 1.5s\n",
      "629:\tlearn: 0.1545920\ttotal: 2.55s\tremaining: 1.5s\n",
      "630:\tlearn: 0.1543998\ttotal: 2.55s\tremaining: 1.49s\n",
      "631:\tlearn: 0.1542376\ttotal: 2.56s\tremaining: 1.49s\n",
      "632:\tlearn: 0.1539570\ttotal: 2.56s\tremaining: 1.48s\n",
      "633:\tlearn: 0.1537313\ttotal: 2.56s\tremaining: 1.48s\n",
      "634:\tlearn: 0.1536604\ttotal: 2.56s\tremaining: 1.47s\n",
      "635:\tlearn: 0.1535228\ttotal: 2.56s\tremaining: 1.47s\n",
      "636:\tlearn: 0.1532055\ttotal: 2.57s\tremaining: 1.47s\n",
      "637:\tlearn: 0.1531495\ttotal: 2.57s\tremaining: 1.46s\n",
      "638:\tlearn: 0.1529781\ttotal: 2.58s\tremaining: 1.46s\n",
      "639:\tlearn: 0.1529712\ttotal: 2.58s\tremaining: 1.45s\n",
      "640:\tlearn: 0.1528643\ttotal: 2.58s\tremaining: 1.45s\n",
      "641:\tlearn: 0.1527652\ttotal: 2.59s\tremaining: 1.44s\n",
      "642:\tlearn: 0.1526021\ttotal: 2.59s\tremaining: 1.44s\n",
      "643:\tlearn: 0.1524392\ttotal: 2.59s\tremaining: 1.43s\n",
      "644:\tlearn: 0.1523271\ttotal: 2.6s\tremaining: 1.43s\n",
      "645:\tlearn: 0.1521554\ttotal: 2.6s\tremaining: 1.43s\n",
      "646:\tlearn: 0.1521523\ttotal: 2.61s\tremaining: 1.42s\n",
      "647:\tlearn: 0.1519483\ttotal: 2.61s\tremaining: 1.42s\n",
      "648:\tlearn: 0.1519449\ttotal: 2.61s\tremaining: 1.41s\n",
      "649:\tlearn: 0.1517855\ttotal: 2.62s\tremaining: 1.41s\n",
      "650:\tlearn: 0.1514422\ttotal: 2.62s\tremaining: 1.4s\n",
      "651:\tlearn: 0.1512756\ttotal: 2.62s\tremaining: 1.4s\n",
      "652:\tlearn: 0.1511717\ttotal: 2.62s\tremaining: 1.39s\n",
      "653:\tlearn: 0.1510830\ttotal: 2.63s\tremaining: 1.39s\n",
      "654:\tlearn: 0.1507882\ttotal: 2.63s\tremaining: 1.39s\n",
      "655:\tlearn: 0.1505579\ttotal: 2.63s\tremaining: 1.38s\n",
      "656:\tlearn: 0.1505463\ttotal: 2.63s\tremaining: 1.38s\n",
      "657:\tlearn: 0.1504666\ttotal: 2.64s\tremaining: 1.37s\n",
      "658:\tlearn: 0.1503182\ttotal: 2.64s\tremaining: 1.37s\n",
      "659:\tlearn: 0.1502408\ttotal: 2.64s\tremaining: 1.36s\n",
      "660:\tlearn: 0.1501212\ttotal: 2.64s\tremaining: 1.36s\n",
      "661:\tlearn: 0.1499686\ttotal: 2.65s\tremaining: 1.35s\n",
      "662:\tlearn: 0.1498412\ttotal: 2.65s\tremaining: 1.35s\n",
      "663:\tlearn: 0.1497688\ttotal: 2.65s\tremaining: 1.34s\n",
      "664:\tlearn: 0.1495675\ttotal: 2.66s\tremaining: 1.34s\n",
      "665:\tlearn: 0.1494137\ttotal: 2.66s\tremaining: 1.33s\n",
      "666:\tlearn: 0.1492940\ttotal: 2.66s\tremaining: 1.33s\n",
      "667:\tlearn: 0.1490587\ttotal: 2.67s\tremaining: 1.33s\n",
      "668:\tlearn: 0.1489447\ttotal: 2.67s\tremaining: 1.32s\n",
      "669:\tlearn: 0.1487335\ttotal: 2.67s\tremaining: 1.32s\n",
      "670:\tlearn: 0.1487299\ttotal: 2.68s\tremaining: 1.31s\n",
      "671:\tlearn: 0.1485363\ttotal: 2.68s\tremaining: 1.31s\n",
      "672:\tlearn: 0.1485090\ttotal: 2.68s\tremaining: 1.3s\n",
      "673:\tlearn: 0.1483836\ttotal: 2.69s\tremaining: 1.3s\n",
      "674:\tlearn: 0.1483266\ttotal: 2.69s\tremaining: 1.29s\n",
      "675:\tlearn: 0.1482330\ttotal: 2.69s\tremaining: 1.29s\n",
      "676:\tlearn: 0.1482229\ttotal: 2.7s\tremaining: 1.29s\n",
      "677:\tlearn: 0.1482181\ttotal: 2.7s\tremaining: 1.28s\n",
      "678:\tlearn: 0.1480898\ttotal: 2.7s\tremaining: 1.28s\n",
      "679:\tlearn: 0.1479364\ttotal: 2.71s\tremaining: 1.27s\n",
      "680:\tlearn: 0.1478641\ttotal: 2.71s\tremaining: 1.27s\n",
      "681:\tlearn: 0.1476574\ttotal: 2.71s\tremaining: 1.26s\n",
      "682:\tlearn: 0.1475785\ttotal: 2.71s\tremaining: 1.26s\n",
      "683:\tlearn: 0.1473222\ttotal: 2.72s\tremaining: 1.25s\n",
      "684:\tlearn: 0.1473187\ttotal: 2.72s\tremaining: 1.25s\n",
      "685:\tlearn: 0.1471521\ttotal: 2.73s\tremaining: 1.25s\n",
      "686:\tlearn: 0.1469352\ttotal: 2.73s\tremaining: 1.24s\n",
      "687:\tlearn: 0.1468238\ttotal: 2.73s\tremaining: 1.24s\n",
      "688:\tlearn: 0.1467012\ttotal: 2.73s\tremaining: 1.23s\n",
      "689:\tlearn: 0.1466017\ttotal: 2.74s\tremaining: 1.23s\n",
      "690:\tlearn: 0.1463922\ttotal: 2.74s\tremaining: 1.23s\n",
      "691:\tlearn: 0.1462636\ttotal: 2.74s\tremaining: 1.22s\n",
      "692:\tlearn: 0.1461967\ttotal: 2.75s\tremaining: 1.22s\n",
      "693:\tlearn: 0.1460849\ttotal: 2.75s\tremaining: 1.21s\n",
      "694:\tlearn: 0.1459004\ttotal: 2.76s\tremaining: 1.21s\n",
      "695:\tlearn: 0.1457613\ttotal: 2.76s\tremaining: 1.2s\n",
      "696:\tlearn: 0.1456307\ttotal: 2.76s\tremaining: 1.2s\n",
      "697:\tlearn: 0.1455194\ttotal: 2.76s\tremaining: 1.2s\n",
      "698:\tlearn: 0.1453681\ttotal: 2.77s\tremaining: 1.19s\n",
      "699:\tlearn: 0.1451001\ttotal: 2.77s\tremaining: 1.19s\n",
      "700:\tlearn: 0.1450551\ttotal: 2.77s\tremaining: 1.18s\n",
      "701:\tlearn: 0.1449535\ttotal: 2.77s\tremaining: 1.18s\n",
      "702:\tlearn: 0.1449127\ttotal: 2.78s\tremaining: 1.17s\n",
      "703:\tlearn: 0.1448505\ttotal: 2.78s\tremaining: 1.17s\n",
      "704:\tlearn: 0.1446358\ttotal: 2.78s\tremaining: 1.16s\n",
      "705:\tlearn: 0.1443467\ttotal: 2.79s\tremaining: 1.16s\n",
      "706:\tlearn: 0.1441752\ttotal: 2.79s\tremaining: 1.16s\n",
      "707:\tlearn: 0.1440344\ttotal: 2.79s\tremaining: 1.15s\n",
      "708:\tlearn: 0.1439670\ttotal: 2.79s\tremaining: 1.15s\n",
      "709:\tlearn: 0.1437093\ttotal: 2.8s\tremaining: 1.14s\n",
      "710:\tlearn: 0.1435642\ttotal: 2.8s\tremaining: 1.14s\n",
      "711:\tlearn: 0.1435614\ttotal: 2.8s\tremaining: 1.13s\n",
      "712:\tlearn: 0.1433478\ttotal: 2.8s\tremaining: 1.13s\n",
      "713:\tlearn: 0.1432278\ttotal: 2.81s\tremaining: 1.12s\n",
      "714:\tlearn: 0.1430887\ttotal: 2.81s\tremaining: 1.12s\n",
      "715:\tlearn: 0.1429544\ttotal: 2.81s\tremaining: 1.11s\n",
      "716:\tlearn: 0.1426407\ttotal: 2.81s\tremaining: 1.11s\n",
      "717:\tlearn: 0.1425880\ttotal: 2.82s\tremaining: 1.11s\n",
      "718:\tlearn: 0.1425241\ttotal: 2.82s\tremaining: 1.1s\n",
      "719:\tlearn: 0.1422749\ttotal: 2.82s\tremaining: 1.1s\n",
      "720:\tlearn: 0.1421233\ttotal: 2.82s\tremaining: 1.09s\n",
      "721:\tlearn: 0.1418801\ttotal: 2.83s\tremaining: 1.09s\n",
      "722:\tlearn: 0.1418773\ttotal: 2.83s\tremaining: 1.08s\n",
      "723:\tlearn: 0.1418581\ttotal: 2.83s\tremaining: 1.08s\n",
      "724:\tlearn: 0.1417273\ttotal: 2.83s\tremaining: 1.07s\n",
      "725:\tlearn: 0.1416040\ttotal: 2.84s\tremaining: 1.07s\n",
      "726:\tlearn: 0.1414891\ttotal: 2.84s\tremaining: 1.07s\n",
      "727:\tlearn: 0.1413443\ttotal: 2.85s\tremaining: 1.06s\n",
      "728:\tlearn: 0.1412155\ttotal: 2.85s\tremaining: 1.06s\n",
      "729:\tlearn: 0.1410706\ttotal: 2.85s\tremaining: 1.05s\n",
      "730:\tlearn: 0.1409459\ttotal: 2.86s\tremaining: 1.05s\n",
      "731:\tlearn: 0.1408365\ttotal: 2.86s\tremaining: 1.05s\n",
      "732:\tlearn: 0.1408137\ttotal: 2.86s\tremaining: 1.04s\n",
      "733:\tlearn: 0.1406147\ttotal: 2.87s\tremaining: 1.04s\n",
      "734:\tlearn: 0.1404007\ttotal: 2.87s\tremaining: 1.03s\n",
      "735:\tlearn: 0.1401697\ttotal: 2.87s\tremaining: 1.03s\n",
      "736:\tlearn: 0.1400713\ttotal: 2.87s\tremaining: 1.02s\n",
      "737:\tlearn: 0.1399963\ttotal: 2.88s\tremaining: 1.02s\n",
      "738:\tlearn: 0.1399095\ttotal: 2.88s\tremaining: 1.02s\n",
      "739:\tlearn: 0.1397719\ttotal: 2.88s\tremaining: 1.01s\n",
      "740:\tlearn: 0.1397178\ttotal: 2.88s\tremaining: 1.01s\n",
      "741:\tlearn: 0.1396249\ttotal: 2.88s\tremaining: 1s\n",
      "742:\tlearn: 0.1395496\ttotal: 2.89s\tremaining: 999ms\n",
      "743:\tlearn: 0.1394089\ttotal: 2.89s\tremaining: 994ms\n",
      "744:\tlearn: 0.1393277\ttotal: 2.89s\tremaining: 990ms\n",
      "745:\tlearn: 0.1391918\ttotal: 2.9s\tremaining: 986ms\n",
      "746:\tlearn: 0.1391047\ttotal: 2.9s\tremaining: 983ms\n",
      "747:\tlearn: 0.1390031\ttotal: 2.9s\tremaining: 978ms\n",
      "748:\tlearn: 0.1389460\ttotal: 2.9s\tremaining: 974ms\n",
      "749:\tlearn: 0.1389107\ttotal: 2.91s\tremaining: 969ms\n",
      "750:\tlearn: 0.1388219\ttotal: 2.91s\tremaining: 965ms\n",
      "751:\tlearn: 0.1388203\ttotal: 2.91s\tremaining: 961ms\n",
      "752:\tlearn: 0.1387616\ttotal: 2.92s\tremaining: 957ms\n",
      "753:\tlearn: 0.1387578\ttotal: 2.92s\tremaining: 952ms\n",
      "754:\tlearn: 0.1386468\ttotal: 2.92s\tremaining: 948ms\n",
      "755:\tlearn: 0.1384674\ttotal: 2.92s\tremaining: 944ms\n",
      "756:\tlearn: 0.1383334\ttotal: 2.93s\tremaining: 939ms\n",
      "757:\tlearn: 0.1381418\ttotal: 2.93s\tremaining: 935ms\n",
      "758:\tlearn: 0.1380538\ttotal: 2.93s\tremaining: 931ms\n",
      "759:\tlearn: 0.1379212\ttotal: 2.93s\tremaining: 926ms\n",
      "760:\tlearn: 0.1377832\ttotal: 2.94s\tremaining: 923ms\n",
      "761:\tlearn: 0.1376260\ttotal: 2.94s\tremaining: 919ms\n",
      "762:\tlearn: 0.1375007\ttotal: 2.94s\tremaining: 914ms\n",
      "763:\tlearn: 0.1373469\ttotal: 2.94s\tremaining: 910ms\n",
      "764:\tlearn: 0.1372504\ttotal: 2.95s\tremaining: 905ms\n",
      "765:\tlearn: 0.1371785\ttotal: 2.95s\tremaining: 901ms\n",
      "766:\tlearn: 0.1371106\ttotal: 2.95s\tremaining: 898ms\n",
      "767:\tlearn: 0.1369414\ttotal: 2.96s\tremaining: 893ms\n",
      "768:\tlearn: 0.1368275\ttotal: 2.96s\tremaining: 889ms\n",
      "769:\tlearn: 0.1367637\ttotal: 2.96s\tremaining: 885ms\n",
      "770:\tlearn: 0.1367321\ttotal: 2.97s\tremaining: 883ms\n",
      "771:\tlearn: 0.1365244\ttotal: 2.97s\tremaining: 878ms\n",
      "772:\tlearn: 0.1364369\ttotal: 2.98s\tremaining: 874ms\n",
      "773:\tlearn: 0.1362409\ttotal: 2.98s\tremaining: 870ms\n",
      "774:\tlearn: 0.1361092\ttotal: 2.98s\tremaining: 866ms\n",
      "775:\tlearn: 0.1359659\ttotal: 2.98s\tremaining: 862ms\n",
      "776:\tlearn: 0.1358668\ttotal: 2.99s\tremaining: 857ms\n",
      "777:\tlearn: 0.1357942\ttotal: 2.99s\tremaining: 853ms\n",
      "778:\tlearn: 0.1357115\ttotal: 2.99s\tremaining: 849ms\n",
      "779:\tlearn: 0.1356765\ttotal: 2.99s\tremaining: 844ms\n",
      "780:\tlearn: 0.1356723\ttotal: 3s\tremaining: 841ms\n",
      "781:\tlearn: 0.1355209\ttotal: 3s\tremaining: 837ms\n",
      "782:\tlearn: 0.1354347\ttotal: 3s\tremaining: 832ms\n",
      "783:\tlearn: 0.1352411\ttotal: 3.01s\tremaining: 828ms\n",
      "784:\tlearn: 0.1351033\ttotal: 3.01s\tremaining: 825ms\n",
      "785:\tlearn: 0.1350619\ttotal: 3.01s\tremaining: 821ms\n",
      "786:\tlearn: 0.1349806\ttotal: 3.02s\tremaining: 816ms\n",
      "787:\tlearn: 0.1348802\ttotal: 3.02s\tremaining: 812ms\n",
      "788:\tlearn: 0.1348569\ttotal: 3.02s\tremaining: 808ms\n",
      "789:\tlearn: 0.1347427\ttotal: 3.03s\tremaining: 805ms\n",
      "790:\tlearn: 0.1345914\ttotal: 3.03s\tremaining: 801ms\n",
      "791:\tlearn: 0.1344306\ttotal: 3.03s\tremaining: 797ms\n",
      "792:\tlearn: 0.1343129\ttotal: 3.05s\tremaining: 796ms\n",
      "793:\tlearn: 0.1343105\ttotal: 3.05s\tremaining: 792ms\n",
      "794:\tlearn: 0.1342244\ttotal: 3.06s\tremaining: 789ms\n",
      "795:\tlearn: 0.1340763\ttotal: 3.06s\tremaining: 785ms\n",
      "796:\tlearn: 0.1340513\ttotal: 3.07s\tremaining: 781ms\n",
      "797:\tlearn: 0.1339315\ttotal: 3.07s\tremaining: 778ms\n",
      "798:\tlearn: 0.1339005\ttotal: 3.08s\tremaining: 775ms\n",
      "799:\tlearn: 0.1337736\ttotal: 3.08s\tremaining: 771ms\n",
      "800:\tlearn: 0.1336722\ttotal: 3.09s\tremaining: 767ms\n",
      "801:\tlearn: 0.1334343\ttotal: 3.09s\tremaining: 763ms\n",
      "802:\tlearn: 0.1333523\ttotal: 3.09s\tremaining: 758ms\n",
      "803:\tlearn: 0.1331714\ttotal: 3.09s\tremaining: 754ms\n",
      "804:\tlearn: 0.1330847\ttotal: 3.1s\tremaining: 750ms\n",
      "805:\tlearn: 0.1329868\ttotal: 3.1s\tremaining: 746ms\n",
      "806:\tlearn: 0.1329105\ttotal: 3.1s\tremaining: 742ms\n",
      "807:\tlearn: 0.1327997\ttotal: 3.1s\tremaining: 738ms\n",
      "808:\tlearn: 0.1327117\ttotal: 3.1s\tremaining: 733ms\n",
      "809:\tlearn: 0.1326421\ttotal: 3.11s\tremaining: 729ms\n",
      "810:\tlearn: 0.1324298\ttotal: 3.11s\tremaining: 725ms\n",
      "811:\tlearn: 0.1323370\ttotal: 3.11s\tremaining: 721ms\n",
      "812:\tlearn: 0.1322211\ttotal: 3.12s\tremaining: 717ms\n",
      "813:\tlearn: 0.1320251\ttotal: 3.13s\tremaining: 715ms\n",
      "814:\tlearn: 0.1318980\ttotal: 3.13s\tremaining: 711ms\n",
      "815:\tlearn: 0.1318122\ttotal: 3.13s\tremaining: 707ms\n",
      "816:\tlearn: 0.1317442\ttotal: 3.14s\tremaining: 703ms\n",
      "817:\tlearn: 0.1316432\ttotal: 3.14s\tremaining: 699ms\n",
      "818:\tlearn: 0.1315015\ttotal: 3.14s\tremaining: 695ms\n",
      "819:\tlearn: 0.1313751\ttotal: 3.14s\tremaining: 690ms\n",
      "820:\tlearn: 0.1313155\ttotal: 3.15s\tremaining: 686ms\n",
      "821:\tlearn: 0.1312376\ttotal: 3.15s\tremaining: 682ms\n",
      "822:\tlearn: 0.1311872\ttotal: 3.15s\tremaining: 678ms\n",
      "823:\tlearn: 0.1311368\ttotal: 3.15s\tremaining: 674ms\n",
      "824:\tlearn: 0.1311196\ttotal: 3.16s\tremaining: 670ms\n",
      "825:\tlearn: 0.1309759\ttotal: 3.16s\tremaining: 665ms\n",
      "826:\tlearn: 0.1309361\ttotal: 3.16s\tremaining: 661ms\n",
      "827:\tlearn: 0.1308127\ttotal: 3.16s\tremaining: 657ms\n",
      "828:\tlearn: 0.1305991\ttotal: 3.16s\tremaining: 653ms\n",
      "829:\tlearn: 0.1305418\ttotal: 3.17s\tremaining: 649ms\n",
      "830:\tlearn: 0.1304940\ttotal: 3.17s\tremaining: 645ms\n",
      "831:\tlearn: 0.1304632\ttotal: 3.17s\tremaining: 641ms\n",
      "832:\tlearn: 0.1303223\ttotal: 3.17s\tremaining: 637ms\n",
      "833:\tlearn: 0.1302393\ttotal: 3.18s\tremaining: 632ms\n",
      "834:\tlearn: 0.1301987\ttotal: 3.18s\tremaining: 629ms\n",
      "835:\tlearn: 0.1299874\ttotal: 3.18s\tremaining: 624ms\n",
      "836:\tlearn: 0.1298332\ttotal: 3.18s\tremaining: 620ms\n",
      "837:\tlearn: 0.1297814\ttotal: 3.19s\tremaining: 616ms\n",
      "838:\tlearn: 0.1297255\ttotal: 3.19s\tremaining: 612ms\n",
      "839:\tlearn: 0.1296179\ttotal: 3.19s\tremaining: 608ms\n",
      "840:\tlearn: 0.1296151\ttotal: 3.19s\tremaining: 604ms\n",
      "841:\tlearn: 0.1294637\ttotal: 3.2s\tremaining: 600ms\n",
      "842:\tlearn: 0.1293708\ttotal: 3.2s\tremaining: 596ms\n",
      "843:\tlearn: 0.1292891\ttotal: 3.2s\tremaining: 592ms\n",
      "844:\tlearn: 0.1291549\ttotal: 3.2s\tremaining: 588ms\n",
      "845:\tlearn: 0.1290886\ttotal: 3.21s\tremaining: 584ms\n",
      "846:\tlearn: 0.1289552\ttotal: 3.21s\tremaining: 580ms\n",
      "847:\tlearn: 0.1288379\ttotal: 3.21s\tremaining: 576ms\n",
      "848:\tlearn: 0.1287271\ttotal: 3.22s\tremaining: 572ms\n",
      "849:\tlearn: 0.1286556\ttotal: 3.22s\tremaining: 568ms\n",
      "850:\tlearn: 0.1284598\ttotal: 3.23s\tremaining: 565ms\n",
      "851:\tlearn: 0.1283126\ttotal: 3.23s\tremaining: 561ms\n",
      "852:\tlearn: 0.1282453\ttotal: 3.23s\tremaining: 557ms\n",
      "853:\tlearn: 0.1281294\ttotal: 3.23s\tremaining: 553ms\n",
      "854:\tlearn: 0.1279527\ttotal: 3.24s\tremaining: 549ms\n",
      "855:\tlearn: 0.1278810\ttotal: 3.24s\tremaining: 546ms\n",
      "856:\tlearn: 0.1277905\ttotal: 3.25s\tremaining: 542ms\n",
      "857:\tlearn: 0.1277317\ttotal: 3.25s\tremaining: 537ms\n",
      "858:\tlearn: 0.1276740\ttotal: 3.25s\tremaining: 534ms\n",
      "859:\tlearn: 0.1276105\ttotal: 3.25s\tremaining: 530ms\n",
      "860:\tlearn: 0.1275192\ttotal: 3.26s\tremaining: 526ms\n",
      "861:\tlearn: 0.1273492\ttotal: 3.26s\tremaining: 522ms\n",
      "862:\tlearn: 0.1272999\ttotal: 3.26s\tremaining: 518ms\n",
      "863:\tlearn: 0.1272626\ttotal: 3.27s\tremaining: 514ms\n",
      "864:\tlearn: 0.1272344\ttotal: 3.27s\tremaining: 510ms\n",
      "865:\tlearn: 0.1270825\ttotal: 3.27s\tremaining: 506ms\n",
      "866:\tlearn: 0.1270797\ttotal: 3.28s\tremaining: 503ms\n",
      "867:\tlearn: 0.1270476\ttotal: 3.28s\tremaining: 499ms\n",
      "868:\tlearn: 0.1269313\ttotal: 3.28s\tremaining: 495ms\n",
      "869:\tlearn: 0.1268925\ttotal: 3.28s\tremaining: 491ms\n",
      "870:\tlearn: 0.1268254\ttotal: 3.29s\tremaining: 487ms\n",
      "871:\tlearn: 0.1267479\ttotal: 3.29s\tremaining: 483ms\n",
      "872:\tlearn: 0.1265725\ttotal: 3.29s\tremaining: 479ms\n",
      "873:\tlearn: 0.1263524\ttotal: 3.3s\tremaining: 475ms\n",
      "874:\tlearn: 0.1262660\ttotal: 3.31s\tremaining: 472ms\n",
      "875:\tlearn: 0.1261363\ttotal: 3.31s\tremaining: 469ms\n",
      "876:\tlearn: 0.1260446\ttotal: 3.31s\tremaining: 465ms\n",
      "877:\tlearn: 0.1259818\ttotal: 3.32s\tremaining: 461ms\n",
      "878:\tlearn: 0.1259122\ttotal: 3.33s\tremaining: 458ms\n",
      "879:\tlearn: 0.1257083\ttotal: 3.33s\tremaining: 454ms\n",
      "880:\tlearn: 0.1256639\ttotal: 3.33s\tremaining: 450ms\n",
      "881:\tlearn: 0.1254868\ttotal: 3.33s\tremaining: 446ms\n",
      "882:\tlearn: 0.1254334\ttotal: 3.34s\tremaining: 442ms\n",
      "883:\tlearn: 0.1253777\ttotal: 3.34s\tremaining: 438ms\n",
      "884:\tlearn: 0.1252898\ttotal: 3.34s\tremaining: 434ms\n",
      "885:\tlearn: 0.1252710\ttotal: 3.34s\tremaining: 430ms\n",
      "886:\tlearn: 0.1252141\ttotal: 3.35s\tremaining: 426ms\n",
      "887:\tlearn: 0.1252113\ttotal: 3.35s\tremaining: 422ms\n",
      "888:\tlearn: 0.1251308\ttotal: 3.35s\tremaining: 419ms\n",
      "889:\tlearn: 0.1251156\ttotal: 3.36s\tremaining: 415ms\n",
      "890:\tlearn: 0.1250558\ttotal: 3.36s\tremaining: 411ms\n",
      "891:\tlearn: 0.1250143\ttotal: 3.36s\tremaining: 407ms\n",
      "892:\tlearn: 0.1249835\ttotal: 3.37s\tremaining: 403ms\n",
      "893:\tlearn: 0.1248921\ttotal: 3.37s\tremaining: 399ms\n",
      "894:\tlearn: 0.1247448\ttotal: 3.37s\tremaining: 396ms\n",
      "895:\tlearn: 0.1245779\ttotal: 3.37s\tremaining: 392ms\n",
      "896:\tlearn: 0.1245594\ttotal: 3.38s\tremaining: 388ms\n",
      "897:\tlearn: 0.1244116\ttotal: 3.38s\tremaining: 384ms\n",
      "898:\tlearn: 0.1243250\ttotal: 3.38s\tremaining: 380ms\n",
      "899:\tlearn: 0.1241497\ttotal: 3.39s\tremaining: 377ms\n",
      "900:\tlearn: 0.1240984\ttotal: 3.4s\tremaining: 373ms\n",
      "901:\tlearn: 0.1240965\ttotal: 3.4s\tremaining: 369ms\n",
      "902:\tlearn: 0.1239589\ttotal: 3.4s\tremaining: 365ms\n",
      "903:\tlearn: 0.1238073\ttotal: 3.4s\tremaining: 362ms\n",
      "904:\tlearn: 0.1236725\ttotal: 3.41s\tremaining: 358ms\n",
      "905:\tlearn: 0.1235607\ttotal: 3.41s\tremaining: 354ms\n",
      "906:\tlearn: 0.1233950\ttotal: 3.41s\tremaining: 350ms\n",
      "907:\tlearn: 0.1233331\ttotal: 3.42s\tremaining: 346ms\n",
      "908:\tlearn: 0.1231745\ttotal: 3.42s\tremaining: 342ms\n",
      "909:\tlearn: 0.1231163\ttotal: 3.43s\tremaining: 339ms\n",
      "910:\tlearn: 0.1231094\ttotal: 3.43s\tremaining: 335ms\n",
      "911:\tlearn: 0.1231059\ttotal: 3.44s\tremaining: 331ms\n",
      "912:\tlearn: 0.1230333\ttotal: 3.44s\tremaining: 328ms\n",
      "913:\tlearn: 0.1228717\ttotal: 3.44s\tremaining: 324ms\n",
      "914:\tlearn: 0.1228376\ttotal: 3.44s\tremaining: 320ms\n",
      "915:\tlearn: 0.1227469\ttotal: 3.44s\tremaining: 316ms\n",
      "916:\tlearn: 0.1227000\ttotal: 3.45s\tremaining: 312ms\n",
      "917:\tlearn: 0.1226592\ttotal: 3.45s\tremaining: 308ms\n",
      "918:\tlearn: 0.1226150\ttotal: 3.45s\tremaining: 304ms\n",
      "919:\tlearn: 0.1225103\ttotal: 3.46s\tremaining: 300ms\n",
      "920:\tlearn: 0.1224866\ttotal: 3.46s\tremaining: 297ms\n",
      "921:\tlearn: 0.1223430\ttotal: 3.46s\tremaining: 293ms\n",
      "922:\tlearn: 0.1221811\ttotal: 3.47s\tremaining: 289ms\n",
      "923:\tlearn: 0.1219805\ttotal: 3.48s\tremaining: 286ms\n",
      "924:\tlearn: 0.1218411\ttotal: 3.48s\tremaining: 282ms\n",
      "925:\tlearn: 0.1216582\ttotal: 3.48s\tremaining: 278ms\n",
      "926:\tlearn: 0.1216565\ttotal: 3.48s\tremaining: 274ms\n",
      "927:\tlearn: 0.1216083\ttotal: 3.49s\tremaining: 271ms\n",
      "928:\tlearn: 0.1215264\ttotal: 3.49s\tremaining: 267ms\n",
      "929:\tlearn: 0.1214355\ttotal: 3.49s\tremaining: 263ms\n",
      "930:\tlearn: 0.1213125\ttotal: 3.49s\tremaining: 259ms\n",
      "931:\tlearn: 0.1212341\ttotal: 3.5s\tremaining: 255ms\n",
      "932:\tlearn: 0.1211533\ttotal: 3.5s\tremaining: 251ms\n",
      "933:\tlearn: 0.1210418\ttotal: 3.5s\tremaining: 248ms\n",
      "934:\tlearn: 0.1210051\ttotal: 3.51s\tremaining: 244ms\n",
      "935:\tlearn: 0.1208447\ttotal: 3.51s\tremaining: 240ms\n",
      "936:\tlearn: 0.1208140\ttotal: 3.51s\tremaining: 236ms\n",
      "937:\tlearn: 0.1206586\ttotal: 3.52s\tremaining: 232ms\n",
      "938:\tlearn: 0.1206152\ttotal: 3.52s\tremaining: 229ms\n",
      "939:\tlearn: 0.1204280\ttotal: 3.52s\tremaining: 225ms\n",
      "940:\tlearn: 0.1202975\ttotal: 3.52s\tremaining: 221ms\n",
      "941:\tlearn: 0.1202216\ttotal: 3.53s\tremaining: 217ms\n",
      "942:\tlearn: 0.1201950\ttotal: 3.54s\tremaining: 214ms\n",
      "943:\tlearn: 0.1201367\ttotal: 3.54s\tremaining: 210ms\n",
      "944:\tlearn: 0.1201086\ttotal: 3.54s\tremaining: 206ms\n",
      "945:\tlearn: 0.1199846\ttotal: 3.55s\tremaining: 202ms\n",
      "946:\tlearn: 0.1199738\ttotal: 3.55s\tremaining: 199ms\n",
      "947:\tlearn: 0.1199476\ttotal: 3.56s\tremaining: 195ms\n",
      "948:\tlearn: 0.1198683\ttotal: 3.56s\tremaining: 191ms\n",
      "949:\tlearn: 0.1197686\ttotal: 3.56s\tremaining: 188ms\n",
      "950:\tlearn: 0.1196248\ttotal: 3.57s\tremaining: 184ms\n",
      "951:\tlearn: 0.1195497\ttotal: 3.57s\tremaining: 180ms\n",
      "952:\tlearn: 0.1194084\ttotal: 3.57s\tremaining: 176ms\n",
      "953:\tlearn: 0.1192770\ttotal: 3.58s\tremaining: 173ms\n",
      "954:\tlearn: 0.1191845\ttotal: 3.58s\tremaining: 169ms\n",
      "955:\tlearn: 0.1191590\ttotal: 3.58s\tremaining: 165ms\n",
      "956:\tlearn: 0.1191009\ttotal: 3.59s\tremaining: 161ms\n",
      "957:\tlearn: 0.1190368\ttotal: 3.59s\tremaining: 157ms\n",
      "958:\tlearn: 0.1189410\ttotal: 3.59s\tremaining: 154ms\n",
      "959:\tlearn: 0.1188378\ttotal: 3.6s\tremaining: 150ms\n",
      "960:\tlearn: 0.1187303\ttotal: 3.6s\tremaining: 146ms\n",
      "961:\tlearn: 0.1186438\ttotal: 3.6s\tremaining: 142ms\n",
      "962:\tlearn: 0.1185908\ttotal: 3.6s\tremaining: 138ms\n",
      "963:\tlearn: 0.1185073\ttotal: 3.61s\tremaining: 135ms\n",
      "964:\tlearn: 0.1184565\ttotal: 3.61s\tremaining: 131ms\n",
      "965:\tlearn: 0.1183417\ttotal: 3.61s\tremaining: 127ms\n",
      "966:\tlearn: 0.1182905\ttotal: 3.62s\tremaining: 124ms\n",
      "967:\tlearn: 0.1182641\ttotal: 3.62s\tremaining: 120ms\n",
      "968:\tlearn: 0.1181903\ttotal: 3.63s\tremaining: 116ms\n",
      "969:\tlearn: 0.1181546\ttotal: 3.63s\tremaining: 112ms\n",
      "970:\tlearn: 0.1180861\ttotal: 3.64s\tremaining: 109ms\n",
      "971:\tlearn: 0.1180054\ttotal: 3.64s\tremaining: 105ms\n",
      "972:\tlearn: 0.1179409\ttotal: 3.64s\tremaining: 101ms\n",
      "973:\tlearn: 0.1178982\ttotal: 3.65s\tremaining: 97.4ms\n",
      "974:\tlearn: 0.1178089\ttotal: 3.65s\tremaining: 93.6ms\n",
      "975:\tlearn: 0.1177736\ttotal: 3.65s\tremaining: 89.8ms\n",
      "976:\tlearn: 0.1176868\ttotal: 3.66s\tremaining: 86.1ms\n",
      "977:\tlearn: 0.1175806\ttotal: 3.66s\tremaining: 82.4ms\n",
      "978:\tlearn: 0.1174909\ttotal: 3.67s\tremaining: 78.6ms\n",
      "979:\tlearn: 0.1174297\ttotal: 3.67s\tremaining: 74.8ms\n",
      "980:\tlearn: 0.1173533\ttotal: 3.67s\tremaining: 71.1ms\n",
      "981:\tlearn: 0.1171979\ttotal: 3.67s\tremaining: 67.3ms\n",
      "982:\tlearn: 0.1171299\ttotal: 3.68s\tremaining: 63.6ms\n",
      "983:\tlearn: 0.1170996\ttotal: 3.68s\tremaining: 59.8ms\n",
      "984:\tlearn: 0.1170476\ttotal: 3.68s\tremaining: 56ms\n",
      "985:\tlearn: 0.1168827\ttotal: 3.68s\tremaining: 52.3ms\n",
      "986:\tlearn: 0.1167810\ttotal: 3.68s\tremaining: 48.5ms\n",
      "987:\tlearn: 0.1166707\ttotal: 3.69s\tremaining: 44.8ms\n",
      "988:\tlearn: 0.1166186\ttotal: 3.69s\tremaining: 41.1ms\n",
      "989:\tlearn: 0.1164521\ttotal: 3.7s\tremaining: 37.3ms\n",
      "990:\tlearn: 0.1163029\ttotal: 3.7s\tremaining: 33.6ms\n",
      "991:\tlearn: 0.1162469\ttotal: 3.7s\tremaining: 29.9ms\n",
      "992:\tlearn: 0.1161966\ttotal: 3.71s\tremaining: 26.1ms\n",
      "993:\tlearn: 0.1160075\ttotal: 3.71s\tremaining: 22.4ms\n",
      "994:\tlearn: 0.1159673\ttotal: 3.71s\tremaining: 18.7ms\n",
      "995:\tlearn: 0.1158546\ttotal: 3.72s\tremaining: 14.9ms\n",
      "996:\tlearn: 0.1157037\ttotal: 3.72s\tremaining: 11.2ms\n",
      "997:\tlearn: 0.1156561\ttotal: 3.73s\tremaining: 7.47ms\n",
      "998:\tlearn: 0.1155510\ttotal: 3.73s\tremaining: 3.73ms\n",
      "999:\tlearn: 0.1155158\ttotal: 3.73s\tremaining: 0us\n",
      "0.33260517216923247\n"
     ]
    }
   ],
   "source": [
    "from catboost import CatBoostRegressor\n",
    "from sklearn.ensemble import RandomForestClassifier\n",
    "from sklearn.metrics import roc_auc_score, r2_score, root_mean_squared_error\n",
    "model = CatBoostRegressor()\n",
    "model.fit(x_train, y_train)\n",
    "# y_pred = test(model, x_test, y_test)\n",
    "y_pred = model.predict(x_test)\n",
    "print(root_mean_squared_error(y_test, y_pred))"
   ]
  },
  {
   "cell_type": "code",
   "execution_count": 197,
   "metadata": {},
   "outputs": [
    {
     "data": {
      "application/vnd.plotly.v1+json": {
       "config": {
        "plotlyServerURL": "https://plot.ly"
       },
       "data": [
        {
         "hovertemplate": "x=%{x}<br>y=%{y}<extra></extra>",
         "legendgroup": "",
         "marker": {
          "color": "#636efa",
          "symbol": "circle"
         },
         "mode": "markers",
         "name": "",
         "orientation": "v",
         "showlegend": false,
         "type": "scatter",
         "x": [
          0,
          1,
          2,
          3,
          4,
          5,
          6,
          7,
          8,
          9,
          10,
          11,
          12,
          13,
          14,
          15,
          16,
          17,
          18,
          19,
          20,
          21,
          22,
          23,
          24,
          25,
          26,
          27,
          28,
          29,
          30,
          31,
          32,
          33,
          34,
          35,
          36,
          37,
          38,
          39,
          40,
          41,
          42,
          43,
          44,
          45,
          46,
          47,
          48,
          49,
          50,
          51,
          52,
          53,
          54,
          55,
          56,
          57,
          58,
          59,
          60,
          61,
          62,
          63,
          64,
          65,
          66,
          67,
          68,
          69,
          70,
          71,
          72,
          73,
          74,
          75,
          76,
          77,
          78,
          79,
          80,
          81,
          82,
          83,
          84,
          85,
          86,
          87,
          88,
          89,
          90,
          91,
          92,
          93,
          94,
          95,
          96,
          97,
          98,
          99,
          100,
          101,
          102,
          103,
          104,
          105,
          106,
          107,
          108,
          109,
          110,
          111,
          112,
          113,
          114,
          115,
          116,
          117,
          118,
          119,
          120,
          121,
          122,
          123,
          124,
          125,
          126,
          127,
          128,
          129,
          130,
          131,
          132,
          133,
          134,
          135,
          136,
          137,
          138,
          139,
          140,
          141,
          142
         ],
         "xaxis": "x",
         "y": [
          0.5,
          0,
          1,
          0.5,
          0.5,
          1,
          1,
          0,
          0,
          1,
          0.5,
          1,
          0.5,
          0.5,
          0.5,
          0,
          1,
          1,
          1,
          1,
          0,
          1,
          0.5,
          1,
          0.5,
          0,
          1,
          0.5,
          1,
          0,
          1,
          0.5,
          0.5,
          0.5,
          1,
          0,
          0,
          1,
          0,
          0,
          1,
          0.5,
          0.5,
          1,
          1,
          1,
          1,
          0.5,
          1,
          0.5,
          1,
          0,
          1,
          1,
          1,
          0.5,
          1,
          0,
          0,
          1,
          0,
          0,
          0.5,
          0.5,
          1,
          0.5,
          1,
          0,
          1,
          1,
          1,
          0,
          0.5,
          0.5,
          1,
          0.5,
          1,
          1,
          1,
          0.5,
          1,
          1,
          0,
          1,
          1,
          0.5,
          0,
          0.5,
          1,
          0.5,
          0,
          1,
          1,
          0.5,
          1,
          1,
          0.5,
          1,
          1,
          1,
          0.5,
          1,
          0,
          0.5,
          0.5,
          1,
          0.5,
          1,
          0.5,
          1,
          0,
          1,
          0.5,
          0.5,
          0,
          1,
          0,
          1,
          0,
          0,
          0.5,
          1,
          0.5,
          0.5,
          0,
          0.5,
          1,
          1,
          0.5,
          0,
          0,
          0.5,
          1,
          0.5,
          1,
          0,
          0.5,
          1,
          0,
          0.5,
          1,
          0,
          1
         ],
         "yaxis": "y"
        },
        {
         "type": "scatter",
         "y": [
          0.6463997819642847,
          0.22904553249544785,
          0.6748964331835828,
          0.5846399822407693,
          0.7523123687409754,
          0.5900593519138585,
          0.848662159367773,
          0.4979055414001029,
          0.6698806516745209,
          0.952030463977575,
          0.5738986313273805,
          0.8473398896639417,
          0.5866397136418499,
          0.8128207143994641,
          0.4000107421678597,
          0.16146946074341878,
          0.7609965394582499,
          1.0472051497178638,
          0.8120021139421209,
          0.923394467797967,
          0.7881277217346752,
          0.587882828273131,
          0.5782441703316304,
          0.43526881410853635,
          0.47551577312156457,
          0.6078502066649824,
          0.9413477024366214,
          0.37614188042716545,
          0.8368983010215314,
          -0.011414956435598866,
          0.7023134584213506,
          0.535394335839876,
          0.7393536465148607,
          0.7477407874790549,
          0.5966264589326906,
          0.7646098646917439,
          0.10420842784856899,
          0.738476730418861,
          0.5485448355112637,
          0.45072435867231103,
          0.8466510447978485,
          0.7248328140886415,
          0.5066728864075887,
          0.8108220882465478,
          0.4665459114286543,
          1.0592639667703105,
          0.6623659502673777,
          0.3755797753765242,
          0.6902787444561248,
          0.3796357331001646,
          0.8469842232991358,
          0.5843479186346154,
          0.9774798626769776,
          0.7963332527642437,
          0.16570522788138065,
          0.4965988246835584,
          0.9972035388640879,
          0.24218017117752721,
          0.5813438643780737,
          0.4884174107111282,
          0.11843945224420893,
          0.856397269004238,
          0.5874307048613502,
          0.7183853214477263,
          0.6853084184658437,
          0.5048011220392471,
          0.7439780095036044,
          0.539000993361613,
          0.5406511374162077,
          0.955420837030679,
          0.5474102014463925,
          0.6377423893364587,
          0.6461008204740374,
          0.8732805590920203,
          0.8329618201321676,
          0.7668116740268724,
          0.541352218153538,
          0.7763758371617899,
          0.6448993760241182,
          0.47981644227065734,
          0.9286599586953515,
          0.7246330560965955,
          0.15357891914772898,
          0.7379832054471411,
          0.8967560242527459,
          0.5466494449776367,
          0.44844558041146576,
          0.40945577983278914,
          0.698410371341137,
          -0.09017736450049962,
          0.628485518516147,
          0.7181615306380186,
          0.41397012004895845,
          0.7604252391476258,
          0.5137914065030262,
          0.7741294686813773,
          0.849025745912543,
          0.5531479065256442,
          0.7656448542961319,
          0.5238243349817567,
          0.42142202078810287,
          0.5904246215697968,
          0.3442189910052228,
          0.8018314262984509,
          0.9235819552093405,
          0.9012132775552397,
          0.5278270179819345,
          0.6523787601738306,
          0.7577808510455405,
          0.7546863847064913,
          0.4424097059396144,
          0.8482151143946204,
          0.49843004840094907,
          0.7825513807494318,
          -0.022096219904302217,
          0.7185269680652796,
          -0.15944191969748112,
          0.9774798626769776,
          0.6661265773786184,
          0.004396745177094763,
          0.7933466884958633,
          0.7263381674537592,
          0.5283647382759326,
          0.6179145945347704,
          0.5545075201243276,
          0.4929527543068154,
          0.7569872477490247,
          0.8107301380206774,
          0.48784778902923165,
          0.5619217167664652,
          0.4536637204222404,
          0.7953007563063537,
          0.8038840295339668,
          0.521167120818053,
          0.788393893386668,
          0.4284185472077471,
          0.45494356185898543,
          1.2010335413613433,
          0.5596747634169206,
          0.7778515980994328,
          0.817331655360841,
          0.05269976424100331,
          0.9196346559896826
         ]
        }
       ],
       "layout": {
        "legend": {
         "tracegroupgap": 0
        },
        "margin": {
         "t": 60
        },
        "template": {
         "data": {
          "bar": [
           {
            "error_x": {
             "color": "#2a3f5f"
            },
            "error_y": {
             "color": "#2a3f5f"
            },
            "marker": {
             "line": {
              "color": "#E5ECF6",
              "width": 0.5
             },
             "pattern": {
              "fillmode": "overlay",
              "size": 10,
              "solidity": 0.2
             }
            },
            "type": "bar"
           }
          ],
          "barpolar": [
           {
            "marker": {
             "line": {
              "color": "#E5ECF6",
              "width": 0.5
             },
             "pattern": {
              "fillmode": "overlay",
              "size": 10,
              "solidity": 0.2
             }
            },
            "type": "barpolar"
           }
          ],
          "carpet": [
           {
            "aaxis": {
             "endlinecolor": "#2a3f5f",
             "gridcolor": "white",
             "linecolor": "white",
             "minorgridcolor": "white",
             "startlinecolor": "#2a3f5f"
            },
            "baxis": {
             "endlinecolor": "#2a3f5f",
             "gridcolor": "white",
             "linecolor": "white",
             "minorgridcolor": "white",
             "startlinecolor": "#2a3f5f"
            },
            "type": "carpet"
           }
          ],
          "choropleth": [
           {
            "colorbar": {
             "outlinewidth": 0,
             "ticks": ""
            },
            "type": "choropleth"
           }
          ],
          "contour": [
           {
            "colorbar": {
             "outlinewidth": 0,
             "ticks": ""
            },
            "colorscale": [
             [
              0,
              "#0d0887"
             ],
             [
              0.1111111111111111,
              "#46039f"
             ],
             [
              0.2222222222222222,
              "#7201a8"
             ],
             [
              0.3333333333333333,
              "#9c179e"
             ],
             [
              0.4444444444444444,
              "#bd3786"
             ],
             [
              0.5555555555555556,
              "#d8576b"
             ],
             [
              0.6666666666666666,
              "#ed7953"
             ],
             [
              0.7777777777777778,
              "#fb9f3a"
             ],
             [
              0.8888888888888888,
              "#fdca26"
             ],
             [
              1,
              "#f0f921"
             ]
            ],
            "type": "contour"
           }
          ],
          "contourcarpet": [
           {
            "colorbar": {
             "outlinewidth": 0,
             "ticks": ""
            },
            "type": "contourcarpet"
           }
          ],
          "heatmap": [
           {
            "colorbar": {
             "outlinewidth": 0,
             "ticks": ""
            },
            "colorscale": [
             [
              0,
              "#0d0887"
             ],
             [
              0.1111111111111111,
              "#46039f"
             ],
             [
              0.2222222222222222,
              "#7201a8"
             ],
             [
              0.3333333333333333,
              "#9c179e"
             ],
             [
              0.4444444444444444,
              "#bd3786"
             ],
             [
              0.5555555555555556,
              "#d8576b"
             ],
             [
              0.6666666666666666,
              "#ed7953"
             ],
             [
              0.7777777777777778,
              "#fb9f3a"
             ],
             [
              0.8888888888888888,
              "#fdca26"
             ],
             [
              1,
              "#f0f921"
             ]
            ],
            "type": "heatmap"
           }
          ],
          "heatmapgl": [
           {
            "colorbar": {
             "outlinewidth": 0,
             "ticks": ""
            },
            "colorscale": [
             [
              0,
              "#0d0887"
             ],
             [
              0.1111111111111111,
              "#46039f"
             ],
             [
              0.2222222222222222,
              "#7201a8"
             ],
             [
              0.3333333333333333,
              "#9c179e"
             ],
             [
              0.4444444444444444,
              "#bd3786"
             ],
             [
              0.5555555555555556,
              "#d8576b"
             ],
             [
              0.6666666666666666,
              "#ed7953"
             ],
             [
              0.7777777777777778,
              "#fb9f3a"
             ],
             [
              0.8888888888888888,
              "#fdca26"
             ],
             [
              1,
              "#f0f921"
             ]
            ],
            "type": "heatmapgl"
           }
          ],
          "histogram": [
           {
            "marker": {
             "pattern": {
              "fillmode": "overlay",
              "size": 10,
              "solidity": 0.2
             }
            },
            "type": "histogram"
           }
          ],
          "histogram2d": [
           {
            "colorbar": {
             "outlinewidth": 0,
             "ticks": ""
            },
            "colorscale": [
             [
              0,
              "#0d0887"
             ],
             [
              0.1111111111111111,
              "#46039f"
             ],
             [
              0.2222222222222222,
              "#7201a8"
             ],
             [
              0.3333333333333333,
              "#9c179e"
             ],
             [
              0.4444444444444444,
              "#bd3786"
             ],
             [
              0.5555555555555556,
              "#d8576b"
             ],
             [
              0.6666666666666666,
              "#ed7953"
             ],
             [
              0.7777777777777778,
              "#fb9f3a"
             ],
             [
              0.8888888888888888,
              "#fdca26"
             ],
             [
              1,
              "#f0f921"
             ]
            ],
            "type": "histogram2d"
           }
          ],
          "histogram2dcontour": [
           {
            "colorbar": {
             "outlinewidth": 0,
             "ticks": ""
            },
            "colorscale": [
             [
              0,
              "#0d0887"
             ],
             [
              0.1111111111111111,
              "#46039f"
             ],
             [
              0.2222222222222222,
              "#7201a8"
             ],
             [
              0.3333333333333333,
              "#9c179e"
             ],
             [
              0.4444444444444444,
              "#bd3786"
             ],
             [
              0.5555555555555556,
              "#d8576b"
             ],
             [
              0.6666666666666666,
              "#ed7953"
             ],
             [
              0.7777777777777778,
              "#fb9f3a"
             ],
             [
              0.8888888888888888,
              "#fdca26"
             ],
             [
              1,
              "#f0f921"
             ]
            ],
            "type": "histogram2dcontour"
           }
          ],
          "mesh3d": [
           {
            "colorbar": {
             "outlinewidth": 0,
             "ticks": ""
            },
            "type": "mesh3d"
           }
          ],
          "parcoords": [
           {
            "line": {
             "colorbar": {
              "outlinewidth": 0,
              "ticks": ""
             }
            },
            "type": "parcoords"
           }
          ],
          "pie": [
           {
            "automargin": true,
            "type": "pie"
           }
          ],
          "scatter": [
           {
            "fillpattern": {
             "fillmode": "overlay",
             "size": 10,
             "solidity": 0.2
            },
            "type": "scatter"
           }
          ],
          "scatter3d": [
           {
            "line": {
             "colorbar": {
              "outlinewidth": 0,
              "ticks": ""
             }
            },
            "marker": {
             "colorbar": {
              "outlinewidth": 0,
              "ticks": ""
             }
            },
            "type": "scatter3d"
           }
          ],
          "scattercarpet": [
           {
            "marker": {
             "colorbar": {
              "outlinewidth": 0,
              "ticks": ""
             }
            },
            "type": "scattercarpet"
           }
          ],
          "scattergeo": [
           {
            "marker": {
             "colorbar": {
              "outlinewidth": 0,
              "ticks": ""
             }
            },
            "type": "scattergeo"
           }
          ],
          "scattergl": [
           {
            "marker": {
             "colorbar": {
              "outlinewidth": 0,
              "ticks": ""
             }
            },
            "type": "scattergl"
           }
          ],
          "scattermapbox": [
           {
            "marker": {
             "colorbar": {
              "outlinewidth": 0,
              "ticks": ""
             }
            },
            "type": "scattermapbox"
           }
          ],
          "scatterpolar": [
           {
            "marker": {
             "colorbar": {
              "outlinewidth": 0,
              "ticks": ""
             }
            },
            "type": "scatterpolar"
           }
          ],
          "scatterpolargl": [
           {
            "marker": {
             "colorbar": {
              "outlinewidth": 0,
              "ticks": ""
             }
            },
            "type": "scatterpolargl"
           }
          ],
          "scatterternary": [
           {
            "marker": {
             "colorbar": {
              "outlinewidth": 0,
              "ticks": ""
             }
            },
            "type": "scatterternary"
           }
          ],
          "surface": [
           {
            "colorbar": {
             "outlinewidth": 0,
             "ticks": ""
            },
            "colorscale": [
             [
              0,
              "#0d0887"
             ],
             [
              0.1111111111111111,
              "#46039f"
             ],
             [
              0.2222222222222222,
              "#7201a8"
             ],
             [
              0.3333333333333333,
              "#9c179e"
             ],
             [
              0.4444444444444444,
              "#bd3786"
             ],
             [
              0.5555555555555556,
              "#d8576b"
             ],
             [
              0.6666666666666666,
              "#ed7953"
             ],
             [
              0.7777777777777778,
              "#fb9f3a"
             ],
             [
              0.8888888888888888,
              "#fdca26"
             ],
             [
              1,
              "#f0f921"
             ]
            ],
            "type": "surface"
           }
          ],
          "table": [
           {
            "cells": {
             "fill": {
              "color": "#EBF0F8"
             },
             "line": {
              "color": "white"
             }
            },
            "header": {
             "fill": {
              "color": "#C8D4E3"
             },
             "line": {
              "color": "white"
             }
            },
            "type": "table"
           }
          ]
         },
         "layout": {
          "annotationdefaults": {
           "arrowcolor": "#2a3f5f",
           "arrowhead": 0,
           "arrowwidth": 1
          },
          "autotypenumbers": "strict",
          "coloraxis": {
           "colorbar": {
            "outlinewidth": 0,
            "ticks": ""
           }
          },
          "colorscale": {
           "diverging": [
            [
             0,
             "#8e0152"
            ],
            [
             0.1,
             "#c51b7d"
            ],
            [
             0.2,
             "#de77ae"
            ],
            [
             0.3,
             "#f1b6da"
            ],
            [
             0.4,
             "#fde0ef"
            ],
            [
             0.5,
             "#f7f7f7"
            ],
            [
             0.6,
             "#e6f5d0"
            ],
            [
             0.7,
             "#b8e186"
            ],
            [
             0.8,
             "#7fbc41"
            ],
            [
             0.9,
             "#4d9221"
            ],
            [
             1,
             "#276419"
            ]
           ],
           "sequential": [
            [
             0,
             "#0d0887"
            ],
            [
             0.1111111111111111,
             "#46039f"
            ],
            [
             0.2222222222222222,
             "#7201a8"
            ],
            [
             0.3333333333333333,
             "#9c179e"
            ],
            [
             0.4444444444444444,
             "#bd3786"
            ],
            [
             0.5555555555555556,
             "#d8576b"
            ],
            [
             0.6666666666666666,
             "#ed7953"
            ],
            [
             0.7777777777777778,
             "#fb9f3a"
            ],
            [
             0.8888888888888888,
             "#fdca26"
            ],
            [
             1,
             "#f0f921"
            ]
           ],
           "sequentialminus": [
            [
             0,
             "#0d0887"
            ],
            [
             0.1111111111111111,
             "#46039f"
            ],
            [
             0.2222222222222222,
             "#7201a8"
            ],
            [
             0.3333333333333333,
             "#9c179e"
            ],
            [
             0.4444444444444444,
             "#bd3786"
            ],
            [
             0.5555555555555556,
             "#d8576b"
            ],
            [
             0.6666666666666666,
             "#ed7953"
            ],
            [
             0.7777777777777778,
             "#fb9f3a"
            ],
            [
             0.8888888888888888,
             "#fdca26"
            ],
            [
             1,
             "#f0f921"
            ]
           ]
          },
          "colorway": [
           "#636efa",
           "#EF553B",
           "#00cc96",
           "#ab63fa",
           "#FFA15A",
           "#19d3f3",
           "#FF6692",
           "#B6E880",
           "#FF97FF",
           "#FECB52"
          ],
          "font": {
           "color": "#2a3f5f"
          },
          "geo": {
           "bgcolor": "white",
           "lakecolor": "white",
           "landcolor": "#E5ECF6",
           "showlakes": true,
           "showland": true,
           "subunitcolor": "white"
          },
          "hoverlabel": {
           "align": "left"
          },
          "hovermode": "closest",
          "mapbox": {
           "style": "light"
          },
          "paper_bgcolor": "white",
          "plot_bgcolor": "#E5ECF6",
          "polar": {
           "angularaxis": {
            "gridcolor": "white",
            "linecolor": "white",
            "ticks": ""
           },
           "bgcolor": "#E5ECF6",
           "radialaxis": {
            "gridcolor": "white",
            "linecolor": "white",
            "ticks": ""
           }
          },
          "scene": {
           "xaxis": {
            "backgroundcolor": "#E5ECF6",
            "gridcolor": "white",
            "gridwidth": 2,
            "linecolor": "white",
            "showbackground": true,
            "ticks": "",
            "zerolinecolor": "white"
           },
           "yaxis": {
            "backgroundcolor": "#E5ECF6",
            "gridcolor": "white",
            "gridwidth": 2,
            "linecolor": "white",
            "showbackground": true,
            "ticks": "",
            "zerolinecolor": "white"
           },
           "zaxis": {
            "backgroundcolor": "#E5ECF6",
            "gridcolor": "white",
            "gridwidth": 2,
            "linecolor": "white",
            "showbackground": true,
            "ticks": "",
            "zerolinecolor": "white"
           }
          },
          "shapedefaults": {
           "line": {
            "color": "#2a3f5f"
           }
          },
          "ternary": {
           "aaxis": {
            "gridcolor": "white",
            "linecolor": "white",
            "ticks": ""
           },
           "baxis": {
            "gridcolor": "white",
            "linecolor": "white",
            "ticks": ""
           },
           "bgcolor": "#E5ECF6",
           "caxis": {
            "gridcolor": "white",
            "linecolor": "white",
            "ticks": ""
           }
          },
          "title": {
           "x": 0.05
          },
          "xaxis": {
           "automargin": true,
           "gridcolor": "white",
           "linecolor": "white",
           "ticks": "",
           "title": {
            "standoff": 15
           },
           "zerolinecolor": "white",
           "zerolinewidth": 2
          },
          "yaxis": {
           "automargin": true,
           "gridcolor": "white",
           "linecolor": "white",
           "ticks": "",
           "title": {
            "standoff": 15
           },
           "zerolinecolor": "white",
           "zerolinewidth": 2
          }
         }
        },
        "xaxis": {
         "anchor": "y",
         "domain": [
          0,
          1
         ],
         "title": {
          "text": "x"
         }
        },
        "yaxis": {
         "anchor": "x",
         "domain": [
          0,
          1
         ],
         "title": {
          "text": "y"
         }
        }
       }
      }
     },
     "metadata": {},
     "output_type": "display_data"
    }
   ],
   "source": [
    "import plotly.express as px\n",
    "fig = px.scatter(\n",
    "    y=y_test\n",
    ")\n",
    "\n",
    "fig.add_scatter(\n",
    "    y=y_pred\n",
    ")\n",
    "\n",
    "fig.show()"
   ]
  },
  {
   "cell_type": "markdown",
   "metadata": {},
   "source": [
    "# Serialização"
   ]
  },
  {
   "cell_type": "code",
   "execution_count": null,
   "metadata": {},
   "outputs": [],
   "source": []
  }
 ],
 "metadata": {
  "kernelspec": {
   "display_name": "Python 3",
   "language": "python",
   "name": "python3"
  },
  "language_info": {
   "codemirror_mode": {
    "name": "ipython",
    "version": 3
   },
   "file_extension": ".py",
   "mimetype": "text/x-python",
   "name": "python",
   "nbconvert_exporter": "python",
   "pygments_lexer": "ipython3",
   "version": "3.11.2"
  }
 },
 "nbformat": 4,
 "nbformat_minor": 2
}
